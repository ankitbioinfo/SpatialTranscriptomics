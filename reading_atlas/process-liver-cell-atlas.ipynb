{
 "cells": [
  {
   "cell_type": "code",
   "execution_count": 95,
   "id": "initial_id",
   "metadata": {
    "collapsed": true,
    "ExecuteTime": {
     "end_time": "2024-01-25T08:23:58.161627Z",
     "start_time": "2024-01-25T08:23:58.157197Z"
    }
   },
   "outputs": [],
   "source": [
    "import anndata\n",
    "import scanpy as sc\n",
    "from pathlib import Path\n",
    "import pandas as pd"
   ]
  },
  {
   "cell_type": "code",
   "outputs": [],
   "source": [
    "dataset_path = Path(\"/Users/dallmann/bio/datasets/liver-cell-atlas/human/rawData_human/countTable_human\")\n",
    "output_path = Path(\"/Users/dallmann/bio/datasets/liver-cell-atlas/human/processed\")\n",
    "\n",
    "if not output_path.exists():\n",
    "    output_path.mkdir(parents=True)\n",
    "    \n",
    "MTX_FILE_NAME = \"matrix.mtx.gz\"\n",
    "BARCODES_FILE_NAME = \"barcodes.tsv.gz\"\n",
    "FEATURES_FILE_NAME = \"features.tsv.gz\"\n",
    "ANNOT_FILE_NAME = \"annot_humanAll.csv\"\n",
    "\n",
    "H5AD_RAW_FILE_NAME = \"liver-cell-atlas_humanAll.h5ad\"\n",
    "H5AD_LABELED_FILE_NAME = \"liver-cell-atlas_humanAll_labeled.h5ad\"\n",
    "#data = sc.read_mtx(dataset_path / \"matrix.mtx.gz\")"
   ],
   "metadata": {
    "collapsed": false,
    "ExecuteTime": {
     "end_time": "2024-01-25T08:23:58.623578Z",
     "start_time": "2024-01-25T08:23:58.618983Z"
    }
   },
   "id": "ffb3ba59752322e5",
   "execution_count": 96
  },
  {
   "cell_type": "markdown",
   "source": [
    "# Convert data\n",
    "We want to load the data from mtx as an AnnData object and convert it to h5ad since reading the mtx file every time takes a long time.\n"
   ],
   "metadata": {
    "collapsed": false
   },
   "id": "fb0765fb4406625b"
  },
  {
   "cell_type": "code",
   "outputs": [],
   "source": [
    "def convert_and_load_mtx(input_file_path: Path, output_file_path: Path, transpose: bool = True, overwrite: bool = False) -> anndata.AnnData:\n",
    "    if output_file_path.exists() and not overwrite:\n",
    "        print(f\"File {output_file_path} already exists. Skipping conversion.\")\n",
    "        return sc.read_h5ad(output_file_path)\n",
    "    \n",
    "    data = sc.read_mtx(input_file_path)\n",
    "    # transpose data if it is given as genes x cells matrix\n",
    "    if transpose:\n",
    "        data = data.T\n",
    "    \n",
    "    # write the data to disk as h5ad file, effectively caching it for later processing\n",
    "    data.write_h5ad(output_file_path)\n",
    "    return data\n"
   ],
   "metadata": {
    "collapsed": false,
    "ExecuteTime": {
     "end_time": "2024-01-25T08:24:00.185873Z",
     "start_time": "2024-01-25T08:24:00.182413Z"
    }
   },
   "id": "4e06237be4c1a34c",
   "execution_count": 97
  },
  {
   "cell_type": "code",
   "outputs": [
    {
     "name": "stdout",
     "output_type": "stream",
     "text": [
      "File /Users/dallmann/bio/datasets/liver-cell-atlas/human/processed/liver-cell-atlas_humanAll.h5ad already exists. Skipping conversion.\n"
     ]
    }
   ],
   "source": [
    "data = convert_and_load_mtx(dataset_path / MTX_FILE_NAME, output_path / H5AD_RAW_FILE_NAME, overwrite=False)"
   ],
   "metadata": {
    "collapsed": false,
    "ExecuteTime": {
     "end_time": "2024-01-25T08:24:01.506179Z",
     "start_time": "2024-01-25T08:24:00.852508Z"
    }
   },
   "id": "4e9f6f678cce0652",
   "execution_count": 98
  },
  {
   "cell_type": "markdown",
   "source": [
    "# Load barcodes and features\n",
    "We want to load the barcodes and features from the original files and add them to the AnnData object. The barcodes will be set as an index on the observables and the featueres/gene names will be set as an index on the variables, as well as a column 'gene_name' in the variables for further processing with CoExp. "
   ],
   "metadata": {
    "collapsed": false
   },
   "id": "130e37e64b5aa108"
  },
  {
   "cell_type": "code",
   "outputs": [],
   "source": [
    "def add_barcodes_and_features(data: anndata.AnnData, barcodes_file_path: Path, features_file_path: Path, inplace: bool = True) -> anndata.AnnData:\n",
    "    data_ = data.copy() if not inplace else data\n",
    "    \n",
    "    barcodes = pd.read_csv(barcodes_file_path, sep=\"\\t\", header=None, names=[\"barcodes\"])\n",
    "    barcodes.set_index(keys=\"barcodes\", inplace=True, drop=True, verify_integrity=True)\n",
    "    data_.obs = barcodes\n",
    "    \n",
    "    features = pd.read_csv(features_file_path, sep=\"\\t\", header=None, names=[\"gene_name\"])\n",
    "    features.set_index('gene_name', inplace=True, drop=False, verify_integrity=True)\n",
    "    data_.var = features\n",
    "    \n",
    "    return data_"
   ],
   "metadata": {
    "collapsed": false,
    "ExecuteTime": {
     "end_time": "2024-01-25T08:24:03.222425Z",
     "start_time": "2024-01-25T08:24:03.217205Z"
    }
   },
   "id": "114ea55c5be7d2d6",
   "execution_count": 99
  },
  {
   "cell_type": "code",
   "outputs": [],
   "source": [
    "data = add_barcodes_and_features(data, dataset_path / BARCODES_FILE_NAME, dataset_path / FEATURES_FILE_NAME, inplace=True)"
   ],
   "metadata": {
    "collapsed": false,
    "ExecuteTime": {
     "end_time": "2024-01-25T08:24:03.971405Z",
     "start_time": "2024-01-25T08:24:03.813006Z"
    }
   },
   "id": "d8802e27e5c9d41",
   "execution_count": 100
  },
  {
   "cell_type": "markdown",
   "source": [
    "# Integrate annotations\n",
    "The dataset contains annotations for a subset of the cells (~ 167k) in a separate file. We want to integrate these annotations into the AnnData object and in the same step select only the cells that have annotations."
   ],
   "metadata": {
    "collapsed": false
   },
   "id": "378f9dced70ebf6d"
  },
  {
   "cell_type": "code",
   "outputs": [],
   "source": [
    "def integrate_annotations(data: anndata.AnnData, annot_file_path: Path, inplace: bool = True) -> anndata.AnnData:\n",
    "    data_ = data.copy() if not inplace else data\n",
    "    labels = pd.read_csv(annot_file_path, sep=\",\", index_col=6)\n",
    "    \n",
    "    # create a view that only contains the labeled cells\n",
    "    # in addition this select will reorder the cells in the view according to the order of the labels\n",
    "    labeled_data = data_[labels.index]\n",
    "    \n",
    "    selected_labels = labels[[\"annot\"]]\n",
    "    selected_labels = selected_labels.rename(columns={\"annot\": \"cell_type\"}, inplace=False)\n",
    "    labeled_data.obs = selected_labels\n",
    "    \n",
    "    return labeled_data    \n",
    "    "
   ],
   "metadata": {
    "collapsed": false,
    "ExecuteTime": {
     "end_time": "2024-01-25T08:24:05.554048Z",
     "start_time": "2024-01-25T08:24:05.548542Z"
    }
   },
   "id": "316fd3072827b680",
   "execution_count": 101
  },
  {
   "cell_type": "code",
   "outputs": [],
   "source": [
    "labeled_data = integrate_annotations(data, dataset_path.parent.parent / ANNOT_FILE_NAME, inplace=True)"
   ],
   "metadata": {
    "collapsed": false,
    "ExecuteTime": {
     "end_time": "2024-01-25T08:24:09.618041Z",
     "start_time": "2024-01-25T08:24:07.741307Z"
    }
   },
   "id": "e5d00435df2edae4",
   "execution_count": 102
  },
  {
   "cell_type": "code",
   "outputs": [],
   "source": [
    "labeled_data.write_h5ad(output_path / H5AD_LABELED_FILE_NAME)"
   ],
   "metadata": {
    "collapsed": false,
    "ExecuteTime": {
     "end_time": "2024-01-25T08:25:10.826553Z",
     "start_time": "2024-01-25T08:25:10.276325Z"
    }
   },
   "id": "46a0feb02b75493c",
   "execution_count": 106
  },
  {
   "cell_type": "code",
   "outputs": [
    {
     "data": {
      "text/plain": "AnnData object with n_obs × n_vars = 167598 × 32738\n    obs: 'cell_type'\n    var: 'gene_name'"
     },
     "execution_count": 109,
     "metadata": {},
     "output_type": "execute_result"
    }
   ],
   "source": [
    "labeled_data"
   ],
   "metadata": {
    "collapsed": false,
    "ExecuteTime": {
     "end_time": "2024-01-25T08:26:13.058112Z",
     "start_time": "2024-01-25T08:26:13.049615Z"
    }
   },
   "id": "1aa4ab88164abd60",
   "execution_count": 109
  },
  {
   "cell_type": "code",
   "outputs": [],
   "source": [],
   "metadata": {
    "collapsed": false
   },
   "id": "d3dff75f65484ce2"
  }
 ],
 "metadata": {
  "kernelspec": {
   "display_name": "Python 3",
   "language": "python",
   "name": "python3"
  },
  "language_info": {
   "codemirror_mode": {
    "name": "ipython",
    "version": 2
   },
   "file_extension": ".py",
   "mimetype": "text/x-python",
   "name": "python",
   "nbconvert_exporter": "python",
   "pygments_lexer": "ipython2",
   "version": "2.7.6"
  }
 },
 "nbformat": 4,
 "nbformat_minor": 5
}
