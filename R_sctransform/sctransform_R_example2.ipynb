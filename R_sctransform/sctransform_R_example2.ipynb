{
 "cells": [
  {
   "cell_type": "code",
   "execution_count": 31,
   "id": "67c67eca-525b-4b8d-afda-b72738d1a7b9",
   "metadata": {},
   "outputs": [],
   "source": [
    "library(Seurat)\n",
    "library(sctransform)\n",
    "library(ggplot2)\n",
    "library(Matrix)"
   ]
  },
  {
   "cell_type": "code",
   "execution_count": 52,
   "id": "882d6980-2407-4914-bce2-e26d600d7eed",
   "metadata": {},
   "outputs": [],
   "source": [
    "x<- read.csv('input_mouse_Ileum/gene_by_cell.csv',sep=\",\", header=TRUE, row.names=1)\n"
   ]
  },
  {
   "cell_type": "code",
   "execution_count": 53,
   "id": "b9b6bd72-ec2d-4a79-9dbe-4243d1bfa8c4",
   "metadata": {},
   "outputs": [
    {
     "data": {
      "text/html": [
       "<table class=\"dataframe\">\n",
       "<caption>A data.frame: 6 × 7416</caption>\n",
       "<thead>\n",
       "\t<tr><th></th><th scope=col>cell1</th><th scope=col>cell2</th><th scope=col>cell3</th><th scope=col>cell4</th><th scope=col>cell5</th><th scope=col>cell6</th><th scope=col>cell7</th><th scope=col>cell8</th><th scope=col>cell9</th><th scope=col>cell10</th><th scope=col>⋯</th><th scope=col>cell8149</th><th scope=col>cell8151</th><th scope=col>cell8153</th><th scope=col>cell8154</th><th scope=col>cell8159</th><th scope=col>cell8165</th><th scope=col>cell8166</th><th scope=col>cell8167</th><th scope=col>cell8176</th><th scope=col>cell8198</th></tr>\n",
       "\t<tr><th></th><th scope=col>&lt;int&gt;</th><th scope=col>&lt;int&gt;</th><th scope=col>&lt;int&gt;</th><th scope=col>&lt;int&gt;</th><th scope=col>&lt;int&gt;</th><th scope=col>&lt;int&gt;</th><th scope=col>&lt;int&gt;</th><th scope=col>&lt;int&gt;</th><th scope=col>&lt;int&gt;</th><th scope=col>&lt;int&gt;</th><th scope=col>⋯</th><th scope=col>&lt;int&gt;</th><th scope=col>&lt;int&gt;</th><th scope=col>&lt;int&gt;</th><th scope=col>&lt;int&gt;</th><th scope=col>&lt;int&gt;</th><th scope=col>&lt;int&gt;</th><th scope=col>&lt;int&gt;</th><th scope=col>&lt;int&gt;</th><th scope=col>&lt;int&gt;</th><th scope=col>&lt;int&gt;</th></tr>\n",
       "</thead>\n",
       "<tbody>\n",
       "\t<tr><th scope=row>Acsl1</th><td>0</td><td> 0</td><td> 0</td><td>  0</td><td>  2</td><td>0</td><td> 0</td><td> 0</td><td> 0</td><td> 0</td><td>⋯</td><td>0</td><td>0</td><td>0</td><td>1</td><td>1</td><td>0</td><td>0</td><td>0</td><td>0</td><td>0</td></tr>\n",
       "\t<tr><th scope=row>Acta2</th><td>0</td><td>39</td><td>49</td><td>124</td><td>100</td><td>0</td><td>54</td><td>51</td><td>34</td><td>82</td><td>⋯</td><td>0</td><td>0</td><td>0</td><td>0</td><td>0</td><td>0</td><td>0</td><td>0</td><td>0</td><td>0</td></tr>\n",
       "\t<tr><th scope=row>Ada</th><td>0</td><td> 0</td><td> 0</td><td>  0</td><td>  0</td><td>0</td><td> 0</td><td> 0</td><td> 0</td><td> 0</td><td>⋯</td><td>0</td><td>0</td><td>0</td><td>0</td><td>0</td><td>0</td><td>0</td><td>0</td><td>0</td><td>0</td></tr>\n",
       "\t<tr><th scope=row>Adgrd1</th><td>0</td><td> 2</td><td> 2</td><td>  1</td><td>  0</td><td>2</td><td> 1</td><td> 2</td><td> 0</td><td> 0</td><td>⋯</td><td>0</td><td>0</td><td>0</td><td>0</td><td>0</td><td>0</td><td>0</td><td>0</td><td>0</td><td>0</td></tr>\n",
       "\t<tr><th scope=row>Adgrf5</th><td>1</td><td> 0</td><td> 0</td><td>  0</td><td>  0</td><td>0</td><td> 0</td><td> 0</td><td> 0</td><td> 0</td><td>⋯</td><td>0</td><td>0</td><td>0</td><td>0</td><td>1</td><td>0</td><td>0</td><td>0</td><td>0</td><td>0</td></tr>\n",
       "\t<tr><th scope=row>Adra1a</th><td>0</td><td> 0</td><td> 0</td><td>  0</td><td>  0</td><td>0</td><td> 0</td><td> 0</td><td> 0</td><td> 0</td><td>⋯</td><td>0</td><td>0</td><td>0</td><td>0</td><td>0</td><td>0</td><td>0</td><td>0</td><td>0</td><td>0</td></tr>\n",
       "</tbody>\n",
       "</table>\n"
      ],
      "text/latex": [
       "A data.frame: 6 × 7416\n",
       "\\begin{tabular}{r|lllllllllllllllllllll}\n",
       "  & cell1 & cell2 & cell3 & cell4 & cell5 & cell6 & cell7 & cell8 & cell9 & cell10 & ⋯ & cell8149 & cell8151 & cell8153 & cell8154 & cell8159 & cell8165 & cell8166 & cell8167 & cell8176 & cell8198\\\\\n",
       "  & <int> & <int> & <int> & <int> & <int> & <int> & <int> & <int> & <int> & <int> & ⋯ & <int> & <int> & <int> & <int> & <int> & <int> & <int> & <int> & <int> & <int>\\\\\n",
       "\\hline\n",
       "\tAcsl1 & 0 &  0 &  0 &   0 &   2 & 0 &  0 &  0 &  0 &  0 & ⋯ & 0 & 0 & 0 & 1 & 1 & 0 & 0 & 0 & 0 & 0\\\\\n",
       "\tActa2 & 0 & 39 & 49 & 124 & 100 & 0 & 54 & 51 & 34 & 82 & ⋯ & 0 & 0 & 0 & 0 & 0 & 0 & 0 & 0 & 0 & 0\\\\\n",
       "\tAda & 0 &  0 &  0 &   0 &   0 & 0 &  0 &  0 &  0 &  0 & ⋯ & 0 & 0 & 0 & 0 & 0 & 0 & 0 & 0 & 0 & 0\\\\\n",
       "\tAdgrd1 & 0 &  2 &  2 &   1 &   0 & 2 &  1 &  2 &  0 &  0 & ⋯ & 0 & 0 & 0 & 0 & 0 & 0 & 0 & 0 & 0 & 0\\\\\n",
       "\tAdgrf5 & 1 &  0 &  0 &   0 &   0 & 0 &  0 &  0 &  0 &  0 & ⋯ & 0 & 0 & 0 & 0 & 1 & 0 & 0 & 0 & 0 & 0\\\\\n",
       "\tAdra1a & 0 &  0 &  0 &   0 &   0 & 0 &  0 &  0 &  0 &  0 & ⋯ & 0 & 0 & 0 & 0 & 0 & 0 & 0 & 0 & 0 & 0\\\\\n",
       "\\end{tabular}\n"
      ],
      "text/markdown": [
       "\n",
       "A data.frame: 6 × 7416\n",
       "\n",
       "| <!--/--> | cell1 &lt;int&gt; | cell2 &lt;int&gt; | cell3 &lt;int&gt; | cell4 &lt;int&gt; | cell5 &lt;int&gt; | cell6 &lt;int&gt; | cell7 &lt;int&gt; | cell8 &lt;int&gt; | cell9 &lt;int&gt; | cell10 &lt;int&gt; | ⋯ ⋯ | cell8149 &lt;int&gt; | cell8151 &lt;int&gt; | cell8153 &lt;int&gt; | cell8154 &lt;int&gt; | cell8159 &lt;int&gt; | cell8165 &lt;int&gt; | cell8166 &lt;int&gt; | cell8167 &lt;int&gt; | cell8176 &lt;int&gt; | cell8198 &lt;int&gt; |\n",
       "|---|---|---|---|---|---|---|---|---|---|---|---|---|---|---|---|---|---|---|---|---|---|\n",
       "| Acsl1 | 0 |  0 |  0 |   0 |   2 | 0 |  0 |  0 |  0 |  0 | ⋯ | 0 | 0 | 0 | 1 | 1 | 0 | 0 | 0 | 0 | 0 |\n",
       "| Acta2 | 0 | 39 | 49 | 124 | 100 | 0 | 54 | 51 | 34 | 82 | ⋯ | 0 | 0 | 0 | 0 | 0 | 0 | 0 | 0 | 0 | 0 |\n",
       "| Ada | 0 |  0 |  0 |   0 |   0 | 0 |  0 |  0 |  0 |  0 | ⋯ | 0 | 0 | 0 | 0 | 0 | 0 | 0 | 0 | 0 | 0 |\n",
       "| Adgrd1 | 0 |  2 |  2 |   1 |   0 | 2 |  1 |  2 |  0 |  0 | ⋯ | 0 | 0 | 0 | 0 | 0 | 0 | 0 | 0 | 0 | 0 |\n",
       "| Adgrf5 | 1 |  0 |  0 |   0 |   0 | 0 |  0 |  0 |  0 |  0 | ⋯ | 0 | 0 | 0 | 0 | 1 | 0 | 0 | 0 | 0 | 0 |\n",
       "| Adra1a | 0 |  0 |  0 |   0 |   0 | 0 |  0 |  0 |  0 |  0 | ⋯ | 0 | 0 | 0 | 0 | 0 | 0 | 0 | 0 | 0 | 0 |\n",
       "\n"
      ],
      "text/plain": [
       "       cell1 cell2 cell3 cell4 cell5 cell6 cell7 cell8 cell9 cell10 ⋯ cell8149\n",
       "Acsl1  0      0     0      0     2   0      0     0     0     0     ⋯ 0       \n",
       "Acta2  0     39    49    124   100   0     54    51    34    82     ⋯ 0       \n",
       "Ada    0      0     0      0     0   0      0     0     0     0     ⋯ 0       \n",
       "Adgrd1 0      2     2      1     0   2      1     2     0     0     ⋯ 0       \n",
       "Adgrf5 1      0     0      0     0   0      0     0     0     0     ⋯ 0       \n",
       "Adra1a 0      0     0      0     0   0      0     0     0     0     ⋯ 0       \n",
       "       cell8151 cell8153 cell8154 cell8159 cell8165 cell8166 cell8167 cell8176\n",
       "Acsl1  0        0        1        1        0        0        0        0       \n",
       "Acta2  0        0        0        0        0        0        0        0       \n",
       "Ada    0        0        0        0        0        0        0        0       \n",
       "Adgrd1 0        0        0        0        0        0        0        0       \n",
       "Adgrf5 0        0        0        1        0        0        0        0       \n",
       "Adra1a 0        0        0        0        0        0        0        0       \n",
       "       cell8198\n",
       "Acsl1  0       \n",
       "Acta2  0       \n",
       "Ada    0       \n",
       "Adgrd1 0       \n",
       "Adgrf5 0       \n",
       "Adra1a 0       "
      ]
     },
     "metadata": {},
     "output_type": "display_data"
    }
   ],
   "source": [
    "head(x)"
   ]
  },
  {
   "cell_type": "code",
   "execution_count": 54,
   "id": "dafcf45a-3b69-4f29-8206-92ee4946c6d9",
   "metadata": {},
   "outputs": [],
   "source": [
    "xx <-as.data.frame(as.matrix(x))"
   ]
  },
  {
   "cell_type": "code",
   "execution_count": 55,
   "id": "cdfba307-a712-46fc-9ad9-b68f7c6cb7e7",
   "metadata": {},
   "outputs": [],
   "source": [
    "mat <- as(as.matrix(x), \"dgCMatrix\")"
   ]
  },
  {
   "cell_type": "code",
   "execution_count": 42,
   "id": "5889137b-9e09-4964-aa3e-2f6058a4e018",
   "metadata": {},
   "outputs": [],
   "source": [
    "#pbmc.data"
   ]
  },
  {
   "cell_type": "code",
   "execution_count": 57,
   "id": "9014bc72-d1ec-4f9f-bbb3-0d08c1dd6d80",
   "metadata": {},
   "outputs": [],
   "source": [
    "#mat"
   ]
  },
  {
   "cell_type": "code",
   "execution_count": 58,
   "id": "399144eb-0e62-436e-9fcd-5f9a94bc58cd",
   "metadata": {},
   "outputs": [
    {
     "name": "stderr",
     "output_type": "stream",
     "text": [
      "Calculating cell attributes from input UMI matrix: log_umi\n",
      "\n",
      "Variance stabilizing transformation of count matrix of size 241 by 7416\n",
      "\n",
      "Model formula is y ~ log_umi\n",
      "\n",
      "Get Negative Binomial regression parameters per gene\n",
      "\n",
      "Using 241 genes, 7416 cells\n",
      "\n"
     ]
    },
    {
     "name": "stdout",
     "output_type": "stream",
     "text": [
      "  |======================================================================| 100%\n"
     ]
    },
    {
     "name": "stderr",
     "output_type": "stream",
     "text": [
      "Found 2 outliers - those will be ignored in fitting/regularization step\n",
      "\n",
      "\n",
      "Second step: Get residuals using fitted parameters for 241 genes\n",
      "\n"
     ]
    },
    {
     "name": "stdout",
     "output_type": "stream",
     "text": [
      "  |======================================================================| 100%\n"
     ]
    },
    {
     "name": "stderr",
     "output_type": "stream",
     "text": [
      "Calculating gene attributes\n",
      "\n",
      "Wall clock passed: Time difference of 6.360417 secs\n",
      "\n"
     ]
    }
   ],
   "source": [
    "my_vst_out <- vst(mat,return_cell_attr=TRUE)"
   ]
  },
  {
   "cell_type": "code",
   "execution_count": 59,
   "id": "f439c01e-e876-477f-b14c-e18a62a700a4",
   "metadata": {},
   "outputs": [],
   "source": [
    "write.table(as.matrix(my_vst_out$y),'my_vst_out_y.csv', sep = ',', row.names = T, col.names = T, quote = F)"
   ]
  },
  {
   "cell_type": "code",
   "execution_count": null,
   "id": "b6173e40-937e-4cb7-83f2-b36b4939c62a",
   "metadata": {},
   "outputs": [],
   "source": []
  },
  {
   "cell_type": "code",
   "execution_count": 60,
   "id": "9cb05c6b-3ea7-46a4-81a2-740789c52899",
   "metadata": {},
   "outputs": [],
   "source": [
    "my_pbmc <- CreateSeuratObject(counts = mat, project = \"pbmc3k\", min.cells = 3, min.features = 200)"
   ]
  },
  {
   "cell_type": "code",
   "execution_count": 62,
   "id": "c9774048-a1ae-4729-bd1f-ff736e26db34",
   "metadata": {},
   "outputs": [
    {
     "data": {
      "text/plain": [
       "An object of class Seurat \n",
       "0 features across 0 samples within 1 assay \n",
       "Active assay: RNA (0 features, 0 variable features)"
      ]
     },
     "metadata": {},
     "output_type": "display_data"
    }
   ],
   "source": [
    "my_pbmc\n",
    "#my_pbmc <- SCTransform(my_pbmc)\n"
   ]
  },
  {
   "cell_type": "code",
   "execution_count": null,
   "id": "a29726db-ec47-48b6-a123-d457194185bd",
   "metadata": {},
   "outputs": [],
   "source": []
  },
  {
   "cell_type": "code",
   "execution_count": 46,
   "id": "88ce0254-64c7-4b2b-b1a3-b840898739d5",
   "metadata": {},
   "outputs": [],
   "source": [
    "#raw_counts <- read.table(file=paste0(\"input_mouse_Ileum/\",\"gene_by_cell.csv\"), sep=\",\")"
   ]
  },
  {
   "cell_type": "code",
   "execution_count": null,
   "id": "56b3b2a9-4183-4ce8-a562-4b113ca62845",
   "metadata": {},
   "outputs": [],
   "source": []
  },
  {
   "cell_type": "code",
   "execution_count": null,
   "id": "c2dc90b4-1b94-49c7-a9d6-daf0e42bd338",
   "metadata": {},
   "outputs": [],
   "source": []
  },
  {
   "cell_type": "code",
   "execution_count": null,
   "id": "5d9fa742-58a3-45d5-ac52-0b492ae263b3",
   "metadata": {},
   "outputs": [],
   "source": []
  },
  {
   "cell_type": "code",
   "execution_count": 8,
   "id": "ca766473-e593-40fb-9d78-9800eff28036",
   "metadata": {},
   "outputs": [],
   "source": [
    "pbmc.data <- Read10X(data.dir = \"./data/pbmc3k/filtered_gene_bc_matrices/hg19/\")"
   ]
  },
  {
   "cell_type": "code",
   "execution_count": 44,
   "id": "0a32a11e-846b-4b3b-ac25-e3ab9fd7098d",
   "metadata": {},
   "outputs": [
    {
     "data": {
      "text/html": [
       "'S4'"
      ],
      "text/latex": [
       "'S4'"
      ],
      "text/markdown": [
       "'S4'"
      ],
      "text/plain": [
       "[1] \"S4\""
      ]
     },
     "metadata": {},
     "output_type": "display_data"
    }
   ],
   "source": [
    "typeof(pbmc.data)"
   ]
  },
  {
   "cell_type": "code",
   "execution_count": 45,
   "id": "892fd210-e082-486a-a002-3017ec6e82ab",
   "metadata": {},
   "outputs": [
    {
     "name": "stderr",
     "output_type": "stream",
     "text": [
      "Warning message:\n",
      "“Feature names cannot have underscores ('_'), replacing with dashes ('-')”\n"
     ]
    },
    {
     "data": {
      "text/plain": [
       "An object of class Seurat \n",
       "13714 features across 2700 samples within 1 assay \n",
       "Active assay: RNA (13714 features, 0 variable features)"
      ]
     },
     "metadata": {},
     "output_type": "display_data"
    }
   ],
   "source": [
    "pbmc <- CreateSeuratObject(counts = pbmc.data, project = \"pbmc3k\", min.cells = 3, min.features = 200)\n",
    "pbmc"
   ]
  },
  {
   "cell_type": "code",
   "execution_count": 46,
   "id": "354de41e-293e-4242-9546-dab374248f6c",
   "metadata": {},
   "outputs": [
    {
     "name": "stderr",
     "output_type": "stream",
     "text": [
      "Calculating cell attributes from input UMI matrix: log_umi\n",
      "\n",
      "Variance stabilizing transformation of count matrix of size 12572 by 2700\n",
      "\n",
      "Model formula is y ~ log_umi\n",
      "\n",
      "Get Negative Binomial regression parameters per gene\n",
      "\n",
      "Using 2000 genes, 2700 cells\n",
      "\n"
     ]
    },
    {
     "name": "stdout",
     "output_type": "stream",
     "text": [
      "  |======================================================================| 100%\n"
     ]
    },
    {
     "name": "stderr",
     "output_type": "stream",
     "text": [
      "Found 147 outliers - those will be ignored in fitting/regularization step\n",
      "\n",
      "\n",
      "Second step: Get residuals using fitted parameters for 12572 genes\n",
      "\n"
     ]
    },
    {
     "name": "stdout",
     "output_type": "stream",
     "text": [
      "  |======================================================================| 100%\n"
     ]
    },
    {
     "name": "stderr",
     "output_type": "stream",
     "text": [
      "Computing corrected count matrix for 12572 genes\n",
      "\n"
     ]
    },
    {
     "name": "stdout",
     "output_type": "stream",
     "text": [
      "  |======================================================================| 100%\n"
     ]
    },
    {
     "name": "stderr",
     "output_type": "stream",
     "text": [
      "Calculating gene attributes\n",
      "\n",
      "Wall clock passed: Time difference of 17.07156 secs\n",
      "\n",
      "Determine variable features\n",
      "\n",
      "Place corrected count matrix in counts slot\n",
      "\n",
      "Centering data matrix\n",
      "\n",
      "Set default assay to SCT\n",
      "\n"
     ]
    }
   ],
   "source": [
    "pbmc <- SCTransform(pbmc)"
   ]
  },
  {
   "cell_type": "code",
   "execution_count": null,
   "id": "aae7ab4a-f0dd-4d2c-9a75-0b4589e8c6e6",
   "metadata": {},
   "outputs": [],
   "source": []
  },
  {
   "cell_type": "code",
   "execution_count": null,
   "id": "9999fcc7-ddad-43ec-8e74-66134b7e5aea",
   "metadata": {},
   "outputs": [],
   "source": []
  },
  {
   "cell_type": "code",
   "execution_count": 55,
   "id": "5ab1c0f1-a4d9-4650-a379-ff788ad9305d",
   "metadata": {},
   "outputs": [],
   "source": [
    "write.table(as.matrix(GetAssayData(object = pbmc, slot = \"counts\")),'counts.csv', sep = ',', row.names = T, col.names = T, quote = F)"
   ]
  },
  {
   "cell_type": "code",
   "execution_count": 60,
   "id": "ad6001de-202a-4530-888f-0ed82453f0e7",
   "metadata": {},
   "outputs": [],
   "source": [
    "write.table(as.matrix(GetAssayData(object = pbmc, assay = \"SCT\")),'sct.csv', sep = ',', row.names = T, col.names = T, quote = F)"
   ]
  },
  {
   "cell_type": "code",
   "execution_count": 58,
   "id": "b761443f-ae21-48d8-ab9e-5cbaedf4183f",
   "metadata": {},
   "outputs": [
    {
     "data": {
      "text/html": [
       "<style>\n",
       ".list-inline {list-style: none; margin:0; padding: 0}\n",
       ".list-inline>li {display: inline-block}\n",
       ".list-inline>li:not(:last-child)::after {content: \"\\00b7\"; padding: 0 .5ex}\n",
       "</style>\n",
       "<ol class=list-inline><li>'RNA'</li><li>'SCT'</li></ol>\n"
      ],
      "text/latex": [
       "\\begin{enumerate*}\n",
       "\\item 'RNA'\n",
       "\\item 'SCT'\n",
       "\\end{enumerate*}\n"
      ],
      "text/markdown": [
       "1. 'RNA'\n",
       "2. 'SCT'\n",
       "\n",
       "\n"
      ],
      "text/plain": [
       "[1] \"RNA\" \"SCT\""
      ]
     },
     "metadata": {},
     "output_type": "display_data"
    }
   ],
   "source": [
    "Assays(pbmc)"
   ]
  },
  {
   "cell_type": "code",
   "execution_count": 59,
   "id": "17ba495c-482f-4026-982e-d52c587b03b9",
   "metadata": {},
   "outputs": [
    {
     "data": {
      "text/plain": [
       "SCTAssay data with 12572 features for 2700 cells, and 1 SCTModel(s) \n",
       "Top 10 variable features:\n",
       " S100A9, GNLY, LYZ, S100A8, NKG7, FTL, GZMB, IGLL5, CCL5, FTH1 "
      ]
     },
     "metadata": {},
     "output_type": "display_data"
    }
   ],
   "source": [
    "pbmc[['SCT']]"
   ]
  },
  {
   "cell_type": "code",
   "execution_count": 62,
   "id": "50404d8e-4269-43a8-a384-409b644f6dfe",
   "metadata": {},
   "outputs": [
    {
     "data": {
      "text/plain": [
       "Assay data with 13714 features for 2700 cells\n",
       "First 10 features:\n",
       " AL627309.1, AP006222.2, RP11-206L10.2, RP11-206L10.9, LINC00115, NOC2L,\n",
       "KLHL17, PLEKHN1, RP11-54O7.17, HES4 "
      ]
     },
     "metadata": {},
     "output_type": "display_data"
    }
   ],
   "source": [
    "pbmc[['RNA']]"
   ]
  },
  {
   "cell_type": "code",
   "execution_count": 61,
   "id": "1a13e495-8005-4c22-8d46-e6aae083a068",
   "metadata": {},
   "outputs": [],
   "source": [
    "write.table(as.matrix(GetAssayData(object = pbmc, assay = \"RNA\")),'counts_RNA.csv', sep = ',', row.names = T, col.names = T, quote = F)"
   ]
  },
  {
   "cell_type": "code",
   "execution_count": null,
   "id": "58faa9c6-893c-4a67-b888-86f9bab0409a",
   "metadata": {},
   "outputs": [],
   "source": []
  },
  {
   "cell_type": "code",
   "execution_count": null,
   "id": "e8b879c9-c584-4c9b-8dfd-55774d8f6205",
   "metadata": {},
   "outputs": [],
   "source": []
  },
  {
   "cell_type": "code",
   "execution_count": 15,
   "id": "ad6009f6-bc2d-49dc-87ee-8b96f588ee04",
   "metadata": {},
   "outputs": [
    {
     "name": "stderr",
     "output_type": "stream",
     "text": [
      "Calculating cell attributes from input UMI matrix: log_umi\n",
      "\n",
      "Variance stabilizing transformation of count matrix of size 12572 by 2700\n",
      "\n",
      "Model formula is y ~ log_umi\n",
      "\n",
      "Get Negative Binomial regression parameters per gene\n",
      "\n",
      "Using 2000 genes, 2700 cells\n",
      "\n"
     ]
    },
    {
     "name": "stdout",
     "output_type": "stream",
     "text": [
      "  |======================================================================| 100%\n"
     ]
    },
    {
     "name": "stderr",
     "output_type": "stream",
     "text": [
      "Found 134 outliers - those will be ignored in fitting/regularization step\n",
      "\n",
      "\n",
      "Second step: Get residuals using fitted parameters for 12572 genes\n",
      "\n"
     ]
    },
    {
     "name": "stdout",
     "output_type": "stream",
     "text": [
      "  |======================================================================| 100%\n"
     ]
    },
    {
     "name": "stderr",
     "output_type": "stream",
     "text": [
      "Calculating gene attributes\n",
      "\n",
      "Wall clock passed: Time difference of 14.50297 secs\n",
      "\n"
     ]
    }
   ],
   "source": [
    "vst_out <- vst(pbmc.data,return_cell_attr=TRUE)"
   ]
  },
  {
   "cell_type": "code",
   "execution_count": 16,
   "id": "40101436-d2e3-4df6-9e26-3978c6cb484f",
   "metadata": {},
   "outputs": [
    {
     "name": "stderr",
     "output_type": "stream",
     "text": [
      "Computing corrected count matrix for 12572 genes\n",
      "\n"
     ]
    },
    {
     "name": "stdout",
     "output_type": "stream",
     "text": [
      "  |======================================================================| 100%\n"
     ]
    }
   ],
   "source": [
    "#vst_out$y\n",
    "umi_corrected<-correct(vst_out)"
   ]
  },
  {
   "cell_type": "code",
   "execution_count": 18,
   "id": "052c4247-ef72-4a5f-a49b-fc3dfdf0e0eb",
   "metadata": {},
   "outputs": [],
   "source": [
    "write.table(as.matrix(umi_corrected),'umi_corrected.csv', sep = ',', row.names = T, col.names = T, quote = F)"
   ]
  },
  {
   "cell_type": "code",
   "execution_count": 19,
   "id": "4f181dff-17f6-4034-9097-1fbe25cd77ba",
   "metadata": {},
   "outputs": [],
   "source": [
    "write.table(as.matrix(vst_out$y),'vst_out_y.csv', sep = ',', row.names = T, col.names = T, quote = F)"
   ]
  },
  {
   "cell_type": "code",
   "execution_count": null,
   "id": "3ac20c6f-a47b-4639-9f0a-1b7e37114426",
   "metadata": {},
   "outputs": [],
   "source": []
  },
  {
   "cell_type": "code",
   "execution_count": null,
   "id": "3db59c64-3e22-4928-947a-b407b5fe388a",
   "metadata": {},
   "outputs": [],
   "source": []
  }
 ],
 "metadata": {
  "kernelspec": {
   "display_name": "R",
   "language": "R",
   "name": "ir"
  },
  "language_info": {
   "codemirror_mode": "r",
   "file_extension": ".r",
   "mimetype": "text/x-r-source",
   "name": "R",
   "pygments_lexer": "r",
   "version": "4.1.1"
  }
 },
 "nbformat": 4,
 "nbformat_minor": 5
}
