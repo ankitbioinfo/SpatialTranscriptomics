{
 "cells": [
  {
   "cell_type": "code",
   "execution_count": 1,
   "id": "70f2f237",
   "metadata": {},
   "outputs": [],
   "source": [
    "import scanpy as sc\n",
    "import matplotlib.pyplot as plt\n",
    "import numpy as np\n",
    "import pandas as pd\n",
    "import os\n",
    "#import pickle\n",
    "from scipy.spatial import cKDTree\n",
    "from SCTransform import SCTransform\n",
    "\n",
    "import warnings\n",
    "import time\n",
    "warnings.filterwarnings('ignore')\n",
    "#export PYTHONWARNINGS='ignore:Multiprocessing-backed parallel loops:UserWarning'\n",
    "os.environ[\"PYTHONWARNINGS\"] = \"ignore::UserWarning\"\n",
    "\n"
   ]
  },
  {
   "cell_type": "code",
   "execution_count": 2,
   "id": "da8a9004",
   "metadata": {},
   "outputs": [],
   "source": [
    "def create_directory(outputFolder):\n",
    "    answer=os.path.isdir(outputFolder)\n",
    "    if answer==True:\n",
    "        pass\n",
    "    else:\n",
    "        os.mkdir(outputFolder)\n",
    "\n",
    "\n",
    "def find_index(sp_genename,sc_genename):\n",
    "    index_sc=[]\n",
    "    index_sp=[]\n",
    "    d={}\n",
    "    for j in range(len(sc_genename)):\n",
    "        name=sc_genename[j]\n",
    "        d[name]=j\n",
    "\n",
    "    for i in range(len(sp_genename)):\n",
    "        name=sp_genename[i]\n",
    "        try:\n",
    "            d[name]\n",
    "            flag=1\n",
    "        except KeyError:\n",
    "            flag=0\n",
    "        if flag==1:\n",
    "            index_sc.append(d[name])\n",
    "            index_sp.append(i)\n",
    "    return index_sp,index_sc\n"
   ]
  },
  {
   "cell_type": "code",
   "execution_count": 4,
   "id": "058fc934",
   "metadata": {},
   "outputs": [],
   "source": [
    "datapath='./../alldata/'\n",
    "ad_sc_ori=sc.read_h5ad(datapath+'sc_liver_data.h5ad')\n",
    "#ad_sp_ori=sc.read_h5ad(datapath+'spatial_quadrant.h5ad')\n",
    "ad_sp_ori=sc.read(datapath+'Blank_genes_removed.csv').transpose()\n",
    "#ad_sp_ori.var_names_make_unique()\n",
    "#ad_sc_ori.var_names_make_unique()\n",
    "\n",
    "sc.pp.filter_cells(ad_sp_ori, min_counts=2)"
   ]
  },
  {
   "cell_type": "code",
   "execution_count": 5,
   "id": "fd000723",
   "metadata": {},
   "outputs": [
    {
     "name": "stdout",
     "output_type": "stream",
     "text": [
      "AnnData object with n_obs × n_vars = 185894 × 31053\n",
      "AnnData object with n_obs × n_vars = 393286 × 347\n",
      "    obs: 'n_counts'\n"
     ]
    }
   ],
   "source": [
    "print(ad_sc_ori)\n",
    "print(ad_sp_ori)"
   ]
  },
  {
   "cell_type": "code",
   "execution_count": 6,
   "id": "381de46a",
   "metadata": {},
   "outputs": [],
   "source": [
    "sp_genename=ad_sp_ori.var_names.to_numpy()\n",
    "sc_genename=ad_sc_ori.var_names.to_numpy()\n",
    "index_sp,index_sc=find_index(sp_genename,sc_genename)"
   ]
  },
  {
   "cell_type": "code",
   "execution_count": 7,
   "id": "8c9d96b3",
   "metadata": {},
   "outputs": [],
   "source": [
    "ad_sc=ad_sc_ori[:,index_sc].copy()\n",
    "ad_sp=ad_sp_ori[:,index_sp].copy()"
   ]
  },
  {
   "cell_type": "code",
   "execution_count": 8,
   "id": "e9e0dc4f",
   "metadata": {},
   "outputs": [
    {
     "name": "stdout",
     "output_type": "stream",
     "text": [
      "AnnData object with n_obs × n_vars = 185894 × 346\n",
      "AnnData object with n_obs × n_vars = 393286 × 346\n",
      "    obs: 'n_counts'\n"
     ]
    }
   ],
   "source": [
    "print(ad_sc)\n",
    "print(ad_sp)"
   ]
  },
  {
   "cell_type": "code",
   "execution_count": 9,
   "id": "e9ef8437",
   "metadata": {},
   "outputs": [],
   "source": [
    "sct_ad_sp = SCTransform(ad_sp,min_cells=5,gmean_eps=1,n_genes=500,n_cells=None, #use all cells\n",
    "                        bin_size=500,bw_adjust=3,inplace=False)\n",
    "sct_ad_sp.write_h5ad('scTransform_spatial.h5ad')"
   ]
  },
  {
   "cell_type": "code",
   "execution_count": null,
   "id": "ab454d89",
   "metadata": {},
   "outputs": [],
   "source": []
  },
  {
   "cell_type": "code",
   "execution_count": 10,
   "id": "6cfe4992",
   "metadata": {},
   "outputs": [
    {
     "name": "stdout",
     "output_type": "stream",
     "text": [
      "185894 393286\n",
      "185894 393286\n"
     ]
    }
   ],
   "source": [
    "celname1=ad_sc.obs_names.to_numpy()\n",
    "celname2=ad_sp.obs_names.to_numpy()\n",
    "s1=np.unique(celname1)\n",
    "s2=np.unique(celname2)\n",
    "print(len(celname1),len(celname2))\n",
    "print(len(s1),len(s2))"
   ]
  },
  {
   "cell_type": "code",
   "execution_count": 11,
   "id": "b1abec98",
   "metadata": {},
   "outputs": [],
   "source": [
    "sct_ad_sc = SCTransform(ad_sc,min_cells=5,gmean_eps=1,n_genes=500,n_cells=None, #use all cells\n",
    "\t\t                bin_size=500,bw_adjust=3,inplace=False)\n",
    "sct_ad_sc.write_h5ad('scTransform_singleCell.h5ad')"
   ]
  },
  {
   "cell_type": "code",
   "execution_count": null,
   "id": "f3828ee9",
   "metadata": {},
   "outputs": [],
   "source": [
    "\n"
   ]
  },
  {
   "cell_type": "code",
   "execution_count": 12,
   "id": "5d95180f",
   "metadata": {},
   "outputs": [
    {
     "name": "stdout",
     "output_type": "stream",
     "text": [
      "185894 393286\n",
      "185894 393286\n"
     ]
    }
   ],
   "source": [
    "celname1=sct_ad_sc.obs_names.to_numpy()\n",
    "celname2=sct_ad_sp.obs_names.to_numpy()\n",
    "s1=np.unique(celname1)\n",
    "s2=np.unique(celname2)\n",
    "print(len(celname1),len(celname2))\n",
    "print(len(s1),len(s2))"
   ]
  },
  {
   "cell_type": "code",
   "execution_count": null,
   "id": "28f57a4d",
   "metadata": {},
   "outputs": [],
   "source": []
  }
 ],
 "metadata": {
  "kernelspec": {
   "display_name": "Python 3 (ipykernel)",
   "language": "python",
   "name": "python3"
  },
  "language_info": {
   "codemirror_mode": {
    "name": "ipython",
    "version": 3
   },
   "file_extension": ".py",
   "mimetype": "text/x-python",
   "name": "python",
   "nbconvert_exporter": "python",
   "pygments_lexer": "ipython3",
   "version": "3.9.5"
  }
 },
 "nbformat": 4,
 "nbformat_minor": 5
}
