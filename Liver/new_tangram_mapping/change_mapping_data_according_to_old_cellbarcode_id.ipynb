{
 "cells": [
  {
   "cell_type": "code",
   "execution_count": 1,
   "id": "0757603d",
   "metadata": {},
   "outputs": [],
   "source": [
    "import scanpy as sc \n",
    "import numpy as np "
   ]
  },
  {
   "cell_type": "code",
   "execution_count": 3,
   "id": "23294c69",
   "metadata": {},
   "outputs": [],
   "source": [
    "oldsc=sc.read_h5ad('previousSCTransformData/scTransform_singleCell.h5ad')\n",
    "oldsp=sc.read_h5ad('previousSCTransformData/scTransform_spatial.h5ad')"
   ]
  },
  {
   "cell_type": "code",
   "execution_count": 2,
   "id": "119f121b",
   "metadata": {},
   "outputs": [],
   "source": [
    "newsc=sc.read_h5ad('mappingData/sc_liver_data.h5ad')\n",
    "newsp=sc.read_h5ad('mappingData/sc_genes_spatial_cell_cluster_level.h5ad')"
   ]
  },
  {
   "cell_type": "code",
   "execution_count": 4,
   "id": "e91fdaba",
   "metadata": {},
   "outputs": [
    {
     "name": "stdout",
     "output_type": "stream",
     "text": [
      "(346,) (341,)\n",
      "['Comt' 'Ldha' 'Pck1' 'Akr1a1' 'Ugt2b1'] ['Comt' 'Ldha' 'Pck1' 'Akr1a1' 'Ugt2b1']\n"
     ]
    }
   ],
   "source": [
    "sp_oldgene=oldsp.var_names.to_numpy()\n",
    "sc_oldgene=oldsc.var_names.to_numpy()\n",
    "\n",
    "print(sp_oldgene.shape,sc_oldgene.shape)\n",
    "print(sp_oldgene[0:5],sc_oldgene[0:5])"
   ]
  },
  {
   "cell_type": "code",
   "execution_count": 5,
   "id": "8df7b1fb",
   "metadata": {},
   "outputs": [
    {
     "name": "stdout",
     "output_type": "stream",
     "text": [
      "(26645,) (26645,)\n",
      "['xkr4' 'gm1992' 'gm37381' 'rp1' 'sox17'] ['xkr4' 'gm1992' 'gm37381' 'rp1' 'sox17']\n"
     ]
    }
   ],
   "source": [
    "sp_newgene=newsp.var_names.to_numpy()\n",
    "sc_newgene=newsc.var_names.to_numpy()\n",
    "\n",
    "print(sp_newgene.shape,sc_newgene.shape)\n",
    "print(sp_newgene[0:5],sc_newgene[0:5])"
   ]
  },
  {
   "cell_type": "code",
   "execution_count": 6,
   "id": "1b9f2b03",
   "metadata": {},
   "outputs": [
    {
     "name": "stdout",
     "output_type": "stream",
     "text": [
      "(393286,) (185894,)\n",
      "['cell0' 'cell1' 'cell2' 'cell3' 'cell4'] ['AAACCTGAGTTCGCGC-1' 'AAACCTGGTGAGGCTA-1' 'AAACCTGTCGGTGTCG-1']\n"
     ]
    }
   ],
   "source": [
    "sp_oldcell=oldsp.obs_names.to_numpy()\n",
    "sc_oldcell=oldsc.obs_names.to_numpy()\n",
    "\n",
    "print(sp_oldcell.shape,sc_oldcell.shape)\n",
    "print(sp_oldcell[0:5],sc_oldcell[0:3])"
   ]
  },
  {
   "cell_type": "code",
   "execution_count": 7,
   "id": "d4538c0e",
   "metadata": {},
   "outputs": [
    {
     "name": "stdout",
     "output_type": "stream",
     "text": [
      "(395215,) (185894,)\n",
      "['cell0' 'cell1' 'cell2' 'cell3' 'cell4'] ['AAACCTGAGTTCGCGC-1' 'AAACCTGGTGAGGCTA-1' 'AAACCTGTCGGTGTCG-1']\n"
     ]
    }
   ],
   "source": [
    "sp_newcell=newsp.obs_names.to_numpy()\n",
    "sc_newcell=newsc.obs_names.to_numpy()\n",
    "\n",
    "print(sp_newcell.shape,sc_newcell.shape)\n",
    "print(sp_newcell[0:5],sc_newcell[0:3])"
   ]
  },
  {
   "cell_type": "code",
   "execution_count": 8,
   "id": "253e5c6d",
   "metadata": {},
   "outputs": [
    {
     "name": "stdout",
     "output_type": "stream",
     "text": [
      "1 AnnData object with n_obs × n_vars = 185894 × 26645\n",
      "    var: 'n_cells'\n",
      "    uns: 'overlap_genes', 'training_genes', 'log1p'\n",
      "2 AnnData object with n_obs × n_vars = 185894 × 26645\n",
      "    var: 'n_cells', 'highly_variable', 'means', 'dispersions', 'dispersions_norm'\n",
      "    uns: 'overlap_genes', 'training_genes', 'log1p', 'hvg'\n",
      "3 View of AnnData object with n_obs × n_vars = 185894 × 1000\n",
      "    var: 'n_cells', 'highly_variable', 'means', 'dispersions', 'dispersions_norm'\n",
      "    uns: 'overlap_genes', 'training_genes', 'log1p', 'hvg'\n"
     ]
    }
   ],
   "source": [
    "sc.pp.normalize_total(newsc, inplace=True)\n",
    "sc.pp.log1p(newsc)\n",
    "print('1',newsc)\n",
    "sc.pp.highly_variable_genes(newsc, flavor=\"seurat\", n_top_genes=1000)\n",
    "#sc.pl.highly_variable_genes(full_ad_sc,show=False,save='.png')\n",
    "print('2',newsc)\n",
    "newsc2 = newsc[:, newsc.var.highly_variable]\n",
    "print('3',newsc2)\n",
    "#full_ad_sc.write_h5ad(input_sc_dir+'sc_liver_data_HVG.h5ad')"
   ]
  },
  {
   "cell_type": "code",
   "execution_count": null,
   "id": "0ae48a83",
   "metadata": {},
   "outputs": [],
   "source": [
    "#np.char.capitalize(sp_newgene)"
   ]
  },
  {
   "cell_type": "code",
   "execution_count": 9,
   "id": "fc7e1dda",
   "metadata": {},
   "outputs": [
    {
     "name": "stdout",
     "output_type": "stream",
     "text": [
      "1 AnnData object with n_obs × n_vars = 395215 × 26645\n",
      "    obs: 'uniform_density', 'rna_count_based_density'\n",
      "    var: 'n_cells', 'is_training'\n",
      "    uns: 'overlap_genes', 'training_genes', 'log1p'\n",
      "2 AnnData object with n_obs × n_vars = 395215 × 26645\n",
      "    obs: 'uniform_density', 'rna_count_based_density'\n",
      "    var: 'n_cells', 'is_training', 'highly_variable', 'means', 'dispersions', 'dispersions_norm'\n",
      "    uns: 'overlap_genes', 'training_genes', 'log1p', 'hvg'\n",
      "3 View of AnnData object with n_obs × n_vars = 395215 × 1000\n",
      "    obs: 'uniform_density', 'rna_count_based_density'\n",
      "    var: 'n_cells', 'is_training', 'highly_variable', 'means', 'dispersions', 'dispersions_norm'\n",
      "    uns: 'overlap_genes', 'training_genes', 'log1p', 'hvg'\n"
     ]
    }
   ],
   "source": [
    "sc.pp.normalize_total(newsp, inplace=True)\n",
    "sc.pp.log1p(newsp)\n",
    "print('1',newsp)\n",
    "sc.pp.highly_variable_genes(newsp, flavor=\"seurat\", n_top_genes=1000)\n",
    "#sc.pl.highly_variable_genes(full_ad_sc,show=False,save='.png')\n",
    "print('2',newsp)\n",
    "newsp2 = newsp[:, newsp.var.highly_variable]\n",
    "print('3',newsp2)\n",
    "#full_ad_sc.write_h5ad(input_sc_dir+'sc_liver_data_HVG.h5ad')"
   ]
  },
  {
   "cell_type": "code",
   "execution_count": 14,
   "id": "901c3c40",
   "metadata": {},
   "outputs": [],
   "source": [
    "#for i in range(len(sp_newgene)):\n",
    "#    newsp.var_names[i]=sp_newgene[0].capitalize()"
   ]
  },
  {
   "cell_type": "code",
   "execution_count": 10,
   "id": "a3e85ed6",
   "metadata": {},
   "outputs": [],
   "source": [
    "def find_index(oldcell,newcell):\n",
    "    index_sc=[]\n",
    "    index_sp=[]\n",
    "    d={}\n",
    "    for j in range(len(newcell)):\n",
    "        name=newcell[j]\n",
    "        d[name]=j\n",
    "\n",
    "    for i in range(len(oldcell)):\n",
    "        name=oldcell[i]\n",
    "        try:\n",
    "            d[name]\n",
    "            flag=1\n",
    "        except KeyError:\n",
    "            flag=0\n",
    "        if flag==1:\n",
    "            index_sc.append(d[name])\n",
    "            #index_sp.append(i)\n",
    "    return index_sc"
   ]
  },
  {
   "cell_type": "code",
   "execution_count": 12,
   "id": "b812ecb4",
   "metadata": {},
   "outputs": [],
   "source": [
    "index=find_index(sc_oldcell,sc_newcell)\n",
    "ad_sc_ori=newsc2[index,:].copy()"
   ]
  },
  {
   "cell_type": "code",
   "execution_count": 15,
   "id": "6131a60c",
   "metadata": {},
   "outputs": [],
   "source": [
    "index=find_index(sp_oldcell,sp_newcell)\n",
    "ad_sp_ori=newsp2[index,:].copy()"
   ]
  },
  {
   "cell_type": "code",
   "execution_count": 16,
   "id": "71ca42e5",
   "metadata": {},
   "outputs": [
    {
     "name": "stdout",
     "output_type": "stream",
     "text": [
      "AnnData object with n_obs × n_vars = 185894 × 1000\n",
      "    var: 'n_cells', 'highly_variable', 'means', 'dispersions', 'dispersions_norm'\n",
      "    uns: 'overlap_genes', 'training_genes', 'log1p', 'hvg'\n",
      "AnnData object with n_obs × n_vars = 393286 × 1000\n",
      "    obs: 'uniform_density', 'rna_count_based_density'\n",
      "    var: 'n_cells', 'is_training', 'highly_variable', 'means', 'dispersions', 'dispersions_norm'\n",
      "    uns: 'overlap_genes', 'training_genes', 'log1p', 'hvg'\n"
     ]
    }
   ],
   "source": [
    "print(ad_sc_ori)\n",
    "print(ad_sp_ori)"
   ]
  },
  {
   "cell_type": "code",
   "execution_count": 18,
   "id": "2b4a474d",
   "metadata": {},
   "outputs": [],
   "source": [
    "ad_sc_ori.write_h5ad('HVG_basic_transform_singlecell_liver_data.h5ad')\n",
    "ad_sp_ori.write_h5ad('HVG_basic_transform_spatial_liver_data.h5ad')"
   ]
  },
  {
   "cell_type": "code",
   "execution_count": null,
   "id": "b58bf418",
   "metadata": {},
   "outputs": [],
   "source": []
  }
 ],
 "metadata": {
  "kernelspec": {
   "display_name": "Python 3 (ipykernel)",
   "language": "python",
   "name": "python3"
  },
  "language_info": {
   "codemirror_mode": {
    "name": "ipython",
    "version": 3
   },
   "file_extension": ".py",
   "mimetype": "text/x-python",
   "name": "python",
   "nbconvert_exporter": "python",
   "pygments_lexer": "ipython3",
   "version": "3.9.5"
  }
 },
 "nbformat": 4,
 "nbformat_minor": 5
}
