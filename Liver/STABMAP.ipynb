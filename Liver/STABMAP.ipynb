{
 "cells": [
  {
   "cell_type": "code",
   "execution_count": 1,
   "id": "b146f847",
   "metadata": {},
   "outputs": [],
   "source": [
    "Sys.setenv(LANG=\"en\")"
   ]
  },
  {
   "cell_type": "code",
   "execution_count": 27,
   "id": "f98fb72c",
   "metadata": {},
   "outputs": [
    {
     "name": "stderr",
     "output_type": "stream",
     "text": [
      "Loading required package: ggplot2\n",
      "\n"
     ]
    }
   ],
   "source": [
    "library(StabMap)\n",
    "#library(SingleCellMultiModal)\n",
    "library(scran)\n",
    "library(zellkonverter)\n",
    "library(SummarizedExperiment)\n",
    "library(scRNAseq)\n",
    "library(batchelor)\n",
    "library(scran)\n",
    "library(scater)"
   ]
  },
  {
   "cell_type": "code",
   "execution_count": null,
   "id": "3362c1f6",
   "metadata": {},
   "outputs": [],
   "source": []
  },
  {
   "cell_type": "code",
   "execution_count": 13,
   "id": "3c5a5b51",
   "metadata": {},
   "outputs": [
    {
     "data": {
      "text/html": [
       "'input_vizgen_liver/alldata/'"
      ],
      "text/latex": [
       "'input\\_vizgen\\_liver/alldata/'"
      ],
      "text/markdown": [
       "'input_vizgen_liver/alldata/'"
      ],
      "text/plain": [
       "[1] \"input_vizgen_liver/alldata/\""
      ]
     },
     "metadata": {},
     "output_type": "display_data"
    }
   ],
   "source": [
    "datapath<-'input_vizgen_liver/alldata/'\n",
    "datapath"
   ]
  },
  {
   "cell_type": "code",
   "execution_count": 18,
   "id": "90ba0167",
   "metadata": {},
   "outputs": [
    {
     "name": "stderr",
     "output_type": "stream",
     "text": [
      "Warning message in py_to_r.pandas.core.frame.DataFrame(x):\n",
      "“index contains duplicated values: row names not set”\n"
     ]
    },
    {
     "data": {
      "text/html": [
       "'dgCMatrix'"
      ],
      "text/latex": [
       "'dgCMatrix'"
      ],
      "text/markdown": [
       "'dgCMatrix'"
      ],
      "text/plain": [
       "[1] \"dgCMatrix\"\n",
       "attr(,\"package\")\n",
       "[1] \"Matrix\""
      ]
     },
     "metadata": {},
     "output_type": "display_data"
    }
   ],
   "source": [
    "sce1 = readH5AD('input_vizgen_liver/alldata/sc_liver_data_downsample.h5ad')\n",
    "class(assay(sce1))"
   ]
  },
  {
   "cell_type": "code",
   "execution_count": 29,
   "id": "7344929e",
   "metadata": {},
   "outputs": [
    {
     "data": {
      "text/plain": [
       "class: SingleCellExperiment \n",
       "dim: 31053 18754 \n",
       "metadata(0):\n",
       "assays(1): X\n",
       "rownames(31053): Xkr4 Gm1992 ... Vmn2r122 CAAA01147332.1\n",
       "rowData names(0):\n",
       "colnames(18754): AAACCTGGTGAGGCTA-1 AAACGGGCAGTATGCT-1 ...\n",
       "  CATTATCGTGACGGTA-1 CCACCTATCAATCTCT-1\n",
       "colData names(0):\n",
       "reducedDimNames(0):\n",
       "mainExpName: NULL\n",
       "altExpNames(0):"
      ]
     },
     "metadata": {},
     "output_type": "display_data"
    }
   ],
   "source": [
    "sce1"
   ]
  },
  {
   "cell_type": "code",
   "execution_count": 26,
   "id": "cb1b9c54",
   "metadata": {},
   "outputs": [
    {
     "data": {
      "text/html": [
       "<style>\n",
       ".list-inline {list-style: none; margin:0; padding: 0}\n",
       ".list-inline>li {display: inline-block}\n",
       ".list-inline>li:not(:last-child)::after {content: \"\\00b7\"; padding: 0 .5ex}\n",
       "</style>\n",
       "<ol class=list-inline><li>'matrix'</li><li>'array'</li></ol>\n"
      ],
      "text/latex": [
       "\\begin{enumerate*}\n",
       "\\item 'matrix'\n",
       "\\item 'array'\n",
       "\\end{enumerate*}\n"
      ],
      "text/markdown": [
       "1. 'matrix'\n",
       "2. 'array'\n",
       "\n",
       "\n"
      ],
      "text/plain": [
       "[1] \"matrix\" \"array\" "
      ]
     },
     "metadata": {},
     "output_type": "display_data"
    }
   ],
   "source": [
    "sce3 = readH5AD(paste(datapath,'spatial_quadrant.h5ad',sep=\"\"))\n",
    "class(assay(sce3))"
   ]
  },
  {
   "cell_type": "code",
   "execution_count": 28,
   "id": "2f9b874e",
   "metadata": {},
   "outputs": [
    {
     "data": {
      "text/plain": [
       "class: SingleCellExperiment \n",
       "dim: 347 87210 \n",
       "metadata(0):\n",
       "assays(1): X\n",
       "rownames(347): Comt Ldha ... Pdha2 Hsd17b3\n",
       "rowData names(0):\n",
       "colnames(87210): cell394990 cell394991 ... cell213580 cell213582\n",
       "colData names(0):\n",
       "reducedDimNames(0):\n",
       "mainExpName: NULL\n",
       "altExpNames(0):"
      ]
     },
     "metadata": {},
     "output_type": "display_data"
    }
   ],
   "source": [
    "sce3"
   ]
  },
  {
   "cell_type": "code",
   "execution_count": 31,
   "id": "e92ea268",
   "metadata": {},
   "outputs": [],
   "source": [
    "gene1 <- rownames(sce1) \n",
    "gene2 <- rownames(sce3) \n",
    "common_genes <- intersect(gene1, gene2)"
   ]
  },
  {
   "cell_type": "code",
   "execution_count": 46,
   "id": "1aa5b894",
   "metadata": {},
   "outputs": [],
   "source": [
    "pB1 <- sce1[common_genes,]\n",
    "pB2 <- sce3[common_genes,]\n",
    "#pB3 <- M1[common_genes,]\n",
    "#pB4 <- M2[common_genes,]"
   ]
  },
  {
   "cell_type": "code",
   "execution_count": 47,
   "id": "d62c2786",
   "metadata": {},
   "outputs": [
    {
     "data": {
      "text/plain": [
       "class: SingleCellExperiment \n",
       "dim: 346 18754 \n",
       "metadata(0):\n",
       "assays(1): X\n",
       "rownames(346): Stk17b Fzd7 ... Eno4 Eif3a\n",
       "rowData names(0):\n",
       "colnames(18754): AAACCTGGTGAGGCTA-1 AAACGGGCAGTATGCT-1 ...\n",
       "  CATTATCGTGACGGTA-1 CCACCTATCAATCTCT-1\n",
       "colData names(0):\n",
       "reducedDimNames(0):\n",
       "mainExpName: NULL\n",
       "altExpNames(0):"
      ]
     },
     "metadata": {},
     "output_type": "display_data"
    }
   ],
   "source": [
    "pB1"
   ]
  },
  {
   "cell_type": "code",
   "execution_count": 48,
   "id": "77cf1f86",
   "metadata": {},
   "outputs": [
    {
     "data": {
      "text/plain": [
       "class: SingleCellExperiment \n",
       "dim: 346 18754 \n",
       "metadata(0):\n",
       "assays(1): counts\n",
       "rownames(346): Stk17b Fzd7 ... Eno4 Eif3a\n",
       "rowData names(0):\n",
       "colnames(18754): AAACCTGGTGAGGCTA-1 AAACGGGCAGTATGCT-1 ...\n",
       "  CATTATCGTGACGGTA-1 CCACCTATCAATCTCT-1\n",
       "colData names(0):\n",
       "reducedDimNames(0):\n",
       "mainExpName: NULL\n",
       "altExpNames(0):"
      ]
     },
     "metadata": {},
     "output_type": "display_data"
    }
   ],
   "source": [
    "pB1 <- SingleCellExperiment(list(counts=pB1))\n",
    "pB1"
   ]
  },
  {
   "cell_type": "code",
   "execution_count": 49,
   "id": "94dacd4e",
   "metadata": {},
   "outputs": [
    {
     "data": {
      "text/html": [
       "<style>\n",
       ".list-inline {list-style: none; margin:0; padding: 0}\n",
       ".list-inline>li {display: inline-block}\n",
       ".list-inline>li:not(:last-child)::after {content: \"\\00b7\"; padding: 0 .5ex}\n",
       "</style>\n",
       "<ol class=list-inline><li>346</li><li>105964</li></ol>\n"
      ],
      "text/latex": [
       "\\begin{enumerate*}\n",
       "\\item 346\n",
       "\\item 105964\n",
       "\\end{enumerate*}\n"
      ],
      "text/markdown": [
       "1. 346\n",
       "2. 105964\n",
       "\n",
       "\n"
      ],
      "text/plain": [
       "[1]    346 105964"
      ]
     },
     "metadata": {},
     "output_type": "display_data"
    }
   ],
   "source": [
    "pB2 <- SingleCellExperiment(list(counts=pB2))\n",
    "sizeFactors(pB1) <- 2^rnorm(ncol(pB1))\n",
    "sizeFactors(pB2) <- 2^rnorm(ncol(pB2))\n",
    "nB1 <- cbind(pB1,pB2)\n",
    "#nB2 <- cbind(pB3,pB4)\n",
    "#common_genes\n",
    "\n",
    "#identical(rownames(nB1), rownames(nB2))\n",
    "dim(nB1)\n"
   ]
  },
  {
   "cell_type": "code",
   "execution_count": 50,
   "id": "bf39c162",
   "metadata": {},
   "outputs": [
    {
     "data": {
      "text/html": [
       "105964"
      ],
      "text/latex": [
       "105964"
      ],
      "text/markdown": [
       "105964"
      ],
      "text/plain": [
       "[1] 105964"
      ]
     },
     "metadata": {},
     "output_type": "display_data"
    }
   ],
   "source": [
    "batch <- rep(1:2, c(ncol(pB1), ncol(pB2)))\n",
    "length(batch)"
   ]
  },
  {
   "cell_type": "code",
   "execution_count": 57,
   "id": "323c7ae3",
   "metadata": {},
   "outputs": [
    {
     "data": {
      "text/plain": [
       "class: SingleCellExperiment \n",
       "dim: 346 105964 \n",
       "metadata(0):\n",
       "assays(1): X\n",
       "rownames(346): Stk17b Fzd7 ... Eno4 Eif3a\n",
       "rowData names(0):\n",
       "colnames(105964): AAACCTGGTGAGGCTA-1 AAACGGGCAGTATGCT-1 ... cell213580\n",
       "  cell213582\n",
       "colData names(0):\n",
       "reducedDimNames(0):\n",
       "mainExpName: NULL\n",
       "altExpNames(0):"
      ]
     },
     "metadata": {},
     "output_type": "display_data"
    }
   ],
   "source": [
    "assay(nB1)"
   ]
  },
  {
   "cell_type": "code",
   "execution_count": 58,
   "id": "acdb4593",
   "metadata": {},
   "outputs": [
    {
     "ename": "ERROR",
     "evalue": "Error in value[[3L]](cond): 'FUN' failed on the main Experiments:\n  'assay(<SingleCellExperiment>, i=\"character\", ...)' invalid subscript 'i'\n'counts' not in names(assays(<SingleCellExperiment>))\n",
     "output_type": "error",
     "traceback": [
      "Error in value[[3L]](cond): 'FUN' failed on the main Experiments:\n  'assay(<SingleCellExperiment>, i=\"character\", ...)' invalid subscript 'i'\n'counts' not in names(assays(<SingleCellExperiment>))\nTraceback:\n",
      "1. applyMultiSCE(nB1, batch = batch, FUN = multiBatchNorm)",
      "2. tryCatch({\n .     output[[1]] <- do.call(FUN, c(batches, .dedup_args(MAIN.ARGS, \n .         COMMON.ARGS)))\n . }, error = function(err) {\n .     stop(\"'FUN' failed on the main Experiments:\\n  \", conditionMessage(err))\n . })",
      "3. tryCatchList(expr, classes, parentenv, handlers)",
      "4. tryCatchOne(expr, names, parentenv, handlers[[1L]])",
      "5. value[[3L]](cond)",
      "6. stop(\"'FUN' failed on the main Experiments:\\n  \", conditionMessage(err))"
     ]
    }
   ],
   "source": [
    "nB1 <- applyMultiSCE(nB1, batch=batch, FUN=multiBatchNorm)\n",
    "nB1 "
   ]
  },
  {
   "cell_type": "code",
   "execution_count": 56,
   "id": "93c701c1",
   "metadata": {},
   "outputs": [
    {
     "data": {
      "text/plain": [
       "class: SingleCellExperiment \n",
       "dim: 346 105964 \n",
       "metadata(0):\n",
       "assays(1): counts\n",
       "rownames(346): Stk17b Fzd7 ... Eno4 Eif3a\n",
       "rowData names(0):\n",
       "colnames(105964): AAACCTGGTGAGGCTA-1 AAACGGGCAGTATGCT-1 ... cell213580\n",
       "  cell213582\n",
       "colData names(1): sizeFactor\n",
       "reducedDimNames(0):\n",
       "mainExpName: NULL\n",
       "altExpNames(0):"
      ]
     },
     "metadata": {},
     "output_type": "display_data"
    }
   ],
   "source": [
    "nB1"
   ]
  },
  {
   "cell_type": "code",
   "execution_count": null,
   "id": "4d73804c",
   "metadata": {},
   "outputs": [],
   "source": []
  }
 ],
 "metadata": {
  "kernelspec": {
   "display_name": "R",
   "language": "R",
   "name": "ir"
  },
  "language_info": {
   "codemirror_mode": "r",
   "file_extension": ".r",
   "mimetype": "text/x-r-source",
   "name": "R",
   "pygments_lexer": "r",
   "version": "4.1.1"
  }
 },
 "nbformat": 4,
 "nbformat_minor": 5
}
