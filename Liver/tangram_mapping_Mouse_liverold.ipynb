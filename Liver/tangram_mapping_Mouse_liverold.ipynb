{
 "cells": [
  {
   "cell_type": "code",
   "execution_count": 50,
   "id": "dac85886",
   "metadata": {},
   "outputs": [],
   "source": [
    "import scanpy as sc \n",
    "import tangram as tg\n",
    "import pandas as pd \n",
    "import numpy as np "
   ]
  },
  {
   "cell_type": "code",
   "execution_count": 3,
   "id": "0d68d26c",
   "metadata": {},
   "outputs": [],
   "source": [
    "#ad_sp = sc.read_h5ad(path)\n",
    "#ad_sc = sc.read_h5ad(path)\n",
    "\n",
    "ad_sp=sc.read('Blank_genes_removed.csv').transpose()\n",
    "ad_sp.var_names_make_unique()\n",
    "#adata.var['mt'] = adata.var_names.str.startswith('MT-')  #\n",
    "\n"
   ]
  },
  {
   "cell_type": "code",
   "execution_count": 76,
   "id": "02408527",
   "metadata": {},
   "outputs": [],
   "source": [
    "'''\n",
    "csvfilename='Food-Allergy-LP_normalized_matrix.txt'\n",
    "adataLP=sc.read(csvfilename).transpose()\n",
    "csvfilename='Food-Allergy-PP_normalized_matrix.txt'\n",
    "adataPP=sc.read(csvfilename).transpose()\n",
    "ad_sc=adataPP.concatenate(adataLP)\n",
    "'''\n",
    "ad_sc=sc.read_mtx('countTable_mouseStSt/matrix.mtx.gz').transpose()\n",
    "#ad_sc_all=sc.read_10x_mtx('countTable_mouseStSt/')"
   ]
  },
  {
   "cell_type": "code",
   "execution_count": 77,
   "id": "3f9baa29",
   "metadata": {},
   "outputs": [
    {
     "data": {
      "text/plain": [
       "AnnData object with n_obs × n_vars = 395215 × 347"
      ]
     },
     "execution_count": 77,
     "metadata": {},
     "output_type": "execute_result"
    }
   ],
   "source": [
    "ad_sp"
   ]
  },
  {
   "cell_type": "code",
   "execution_count": 78,
   "id": "a731790f",
   "metadata": {},
   "outputs": [
    {
     "name": "stdout",
     "output_type": "stream",
     "text": [
      "AnnData object with n_obs × n_vars = 389056 × 31053\n"
     ]
    }
   ],
   "source": [
    "print(ad_sc)"
   ]
  },
  {
   "cell_type": "code",
   "execution_count": 115,
   "id": "437f8178",
   "metadata": {},
   "outputs": [
    {
     "name": "stdout",
     "output_type": "stream",
     "text": [
      "389056 31053 (389056, 1) (31053, 1)\n",
      "389056 31053\n"
     ]
    }
   ],
   "source": [
    "cellname=pd.read_csv('countTable_mouseStSt/barcodes.tsv',header=None)\n",
    "genename=pd.read_csv('countTable_mouseStSt/features.tsv',header=None)\n",
    "cellname=cellname.to_numpy()\n",
    "genename=genename.to_numpy()\n",
    "print(len(cellname),len(genename),cellname.shape,genename.shape)\n",
    "print(len(ad_sc.obs_names),len(ad_sc.var_names))\n",
    "ad_sc.obs_names=cellname[:,0]\n",
    "ad_sc.var_names=genename[:,0]\n"
   ]
  },
  {
   "cell_type": "code",
   "execution_count": 116,
   "id": "c4f36181",
   "metadata": {},
   "outputs": [
    {
     "name": "stdout",
     "output_type": "stream",
     "text": [
      "389056 31053 ['AAACCTGAGAGCCCAA-1' 'AAACCTGAGCTAGTCT-1' 'AAACCTGAGTTCGCGC-1'\n",
      " 'AAACCTGCAACACCCG-1' 'AAACCTGCATAGGATA-1'] ['Xkr4' 'Gm1992' 'Gm37381' 'Rp1' 'Sox17']\n"
     ]
    }
   ],
   "source": [
    "sc_cellname=ad_sc.obs_names.to_numpy()\n",
    "sc_genename=ad_sc.var_names.to_numpy()\n",
    "print(len(sc_cellname),len(sc_genename),sc_cellname[0:5],sc_genename[0:5])"
   ]
  },
  {
   "cell_type": "code",
   "execution_count": 117,
   "id": "42dc7f58",
   "metadata": {
    "scrolled": true
   },
   "outputs": [
    {
     "name": "stdout",
     "output_type": "stream",
     "text": [
      "395215 347 ['cell0' 'cell1' 'cell2' 'cell3' 'cell4'] ['Comt' 'Ldha' 'Pck1' 'Akr1a1' 'Ugt2b1']\n"
     ]
    }
   ],
   "source": [
    "sp_cellname=ad_sp.obs_names.to_numpy()\n",
    "sp_genename=ad_sp.var_names.to_numpy()\n",
    "print(len(sp_cellname),len(sp_genename),sp_cellname[0:5],sp_genename[0:5])"
   ]
  },
  {
   "cell_type": "code",
   "execution_count": null,
   "id": "a36d826c",
   "metadata": {},
   "outputs": [],
   "source": []
  },
  {
   "cell_type": "code",
   "execution_count": 118,
   "id": "eb557e65",
   "metadata": {},
   "outputs": [
    {
     "name": "stdout",
     "output_type": "stream",
     "text": [
      "['AAACCTGAGTTCGCGC-1' 'AAACCTGGTGAGGCTA-1' 'AAACCTGTCGGTGTCG-1'\n",
      " 'AAACGGGAGTACGCGA-1' 'AAACGGGCAGTATGCT-1']\n"
     ]
    }
   ],
   "source": [
    "annot=pd.read_csv('annot_mouseStStAll.csv')\n",
    "data=annot.to_numpy()\n",
    "all_barcode_cell_name=data[:,5]\n",
    "print(all_barcode_cell_name[0:5])"
   ]
  },
  {
   "cell_type": "code",
   "execution_count": 119,
   "id": "05a0578f",
   "metadata": {},
   "outputs": [
    {
     "name": "stdout",
     "output_type": "stream",
     "text": [
      "185894 185894 0 389053 [2, 8, 9, 13, 17, 27, 28, 36, 50, 53]\n"
     ]
    }
   ],
   "source": [
    "index=[]\n",
    "d={}\n",
    "for j in range(len(sc_cellname)):\n",
    "    name=sc_cellname[j]\n",
    "    d[name]=j\n",
    "    \n",
    "for i in range(len(all_barcode_cell_name)):\n",
    "    name=all_barcode_cell_name[i]\n",
    "    index.append(d[name])\n",
    "\n",
    "print(len(index),len(all_barcode_cell_name),min(index),max(index),index[0:10])"
   ]
  },
  {
   "cell_type": "code",
   "execution_count": 120,
   "id": "e2e5bb2a",
   "metadata": {},
   "outputs": [
    {
     "name": "stdout",
     "output_type": "stream",
     "text": [
      "(389056, 31053)\n",
      "View of AnnData object with n_obs × n_vars = 185894 × 31053\n"
     ]
    }
   ],
   "source": [
    "print(ad_sc.X.shape)\n",
    "new_ad_sc=ad_sc[index,:]\n",
    "print(new_ad_sc)"
   ]
  },
  {
   "cell_type": "code",
   "execution_count": null,
   "id": "0ae5a30f",
   "metadata": {},
   "outputs": [],
   "source": []
  },
  {
   "cell_type": "code",
   "execution_count": 121,
   "id": "575b6493",
   "metadata": {},
   "outputs": [
    {
     "name": "stdout",
     "output_type": "stream",
     "text": [
      "sc data (389056, 31053)\n",
      "Sp data (395215, 347)\n",
      "new sc data (185894, 31053)\n"
     ]
    }
   ],
   "source": [
    "#cell by gene matrix \n",
    "print('sc data', ad_sc.shape)\n",
    "print('Sp data', ad_sp.shape)\n",
    "print('new sc data', new_ad_sc.shape)\n",
    "\n"
   ]
  },
  {
   "cell_type": "code",
   "execution_count": null,
   "id": "e3747615",
   "metadata": {},
   "outputs": [],
   "source": []
  },
  {
   "cell_type": "code",
   "execution_count": 122,
   "id": "f2750710",
   "metadata": {},
   "outputs": [
    {
     "data": {
      "text/plain": [
       "Index(['Xkr4', 'Gm1992', 'Gm37381', 'Rp1', 'Sox17', 'Gm37323', 'Mrpl15',\n",
       "       'Lypla1', 'Gm37988', 'Tcea1',\n",
       "       ...\n",
       "       'AC125149.1', 'AC125149.2', 'AC125149.4', 'AC234645.1', 'AC168977.2',\n",
       "       'AC168977.1', 'AC149090.1', 'CAAA01118383.1', 'Vmn2r122',\n",
       "       'CAAA01147332.1'],\n",
       "      dtype='object', length=31053)"
      ]
     },
     "execution_count": 122,
     "metadata": {},
     "output_type": "execute_result"
    }
   ],
   "source": [
    "ad_sc.var.index"
   ]
  },
  {
   "cell_type": "code",
   "execution_count": 123,
   "id": "628319ff",
   "metadata": {},
   "outputs": [
    {
     "name": "stderr",
     "output_type": "stream",
     "text": [
      "INFO:root:344 training genes are saved in `uns``training_genes` of both single cell and spatial Anndatas.\n",
      "INFO:root:344 overlapped genes are saved in `uns``overlap_genes` of both single cell and spatial Anndatas.\n",
      "INFO:root:uniform based density prior is calculated and saved in `obs``uniform_density` of the spatial Anndata.\n",
      "INFO:root:rna count based density prior is calculated and saved in `obs``rna_count_based_density` of the spatial Anndata.\n"
     ]
    }
   ],
   "source": [
    "tg.pp_adatas(new_ad_sc, ad_sp, genes=None)"
   ]
  },
  {
   "cell_type": "code",
   "execution_count": null,
   "id": "a000b1fd",
   "metadata": {},
   "outputs": [],
   "source": []
  },
  {
   "cell_type": "code",
   "execution_count": null,
   "id": "22ebf27f",
   "metadata": {},
   "outputs": [
    {
     "name": "stderr",
     "output_type": "stream",
     "text": [
      "INFO:root:Allocate tensors for mapping.\n",
      "INFO:root:Begin training with 344 genes and rna_count_based density_prior in cells mode...\n"
     ]
    }
   ],
   "source": [
    "ad_map = tg.map_cells_to_space(new_ad_sc, ad_sp)\n"
   ]
  },
  {
   "cell_type": "code",
   "execution_count": 9,
   "id": "021b72e8",
   "metadata": {},
   "outputs": [],
   "source": [
    "ad_ge = tg.project_genes(ad_map, new_ad_sc)\n"
   ]
  },
  {
   "cell_type": "code",
   "execution_count": 18,
   "id": "1a5679d9",
   "metadata": {},
   "outputs": [
    {
     "data": {
      "text/html": [
       "<div>\n",
       "<style scoped>\n",
       "    .dataframe tbody tr th:only-of-type {\n",
       "        vertical-align: middle;\n",
       "    }\n",
       "\n",
       "    .dataframe tbody tr th {\n",
       "        vertical-align: top;\n",
       "    }\n",
       "\n",
       "    .dataframe thead th {\n",
       "        text-align: right;\n",
       "    }\n",
       "</style>\n",
       "<table border=\"1\" class=\"dataframe\">\n",
       "  <thead>\n",
       "    <tr style=\"text-align: right;\">\n",
       "      <th></th>\n",
       "      <th>uniform_density</th>\n",
       "      <th>rna_count_based_density</th>\n",
       "    </tr>\n",
       "  </thead>\n",
       "  <tbody>\n",
       "    <tr>\n",
       "      <th>cell1</th>\n",
       "      <td>0.000135</td>\n",
       "      <td>0.000053</td>\n",
       "    </tr>\n",
       "    <tr>\n",
       "      <th>cell2</th>\n",
       "      <td>0.000135</td>\n",
       "      <td>0.000087</td>\n",
       "    </tr>\n",
       "    <tr>\n",
       "      <th>cell3</th>\n",
       "      <td>0.000135</td>\n",
       "      <td>0.000088</td>\n",
       "    </tr>\n",
       "    <tr>\n",
       "      <th>cell4</th>\n",
       "      <td>0.000135</td>\n",
       "      <td>0.000197</td>\n",
       "    </tr>\n",
       "    <tr>\n",
       "      <th>cell5</th>\n",
       "      <td>0.000135</td>\n",
       "      <td>0.000140</td>\n",
       "    </tr>\n",
       "    <tr>\n",
       "      <th>...</th>\n",
       "      <td>...</td>\n",
       "      <td>...</td>\n",
       "    </tr>\n",
       "    <tr>\n",
       "      <th>cell8165</th>\n",
       "      <td>0.000135</td>\n",
       "      <td>0.000015</td>\n",
       "    </tr>\n",
       "    <tr>\n",
       "      <th>cell8166</th>\n",
       "      <td>0.000135</td>\n",
       "      <td>0.000018</td>\n",
       "    </tr>\n",
       "    <tr>\n",
       "      <th>cell8167</th>\n",
       "      <td>0.000135</td>\n",
       "      <td>0.000015</td>\n",
       "    </tr>\n",
       "    <tr>\n",
       "      <th>cell8176</th>\n",
       "      <td>0.000135</td>\n",
       "      <td>0.000015</td>\n",
       "    </tr>\n",
       "    <tr>\n",
       "      <th>cell8198</th>\n",
       "      <td>0.000135</td>\n",
       "      <td>0.000026</td>\n",
       "    </tr>\n",
       "  </tbody>\n",
       "</table>\n",
       "<p>7416 rows × 2 columns</p>\n",
       "</div>"
      ],
      "text/plain": [
       "          uniform_density  rna_count_based_density\n",
       "cell1            0.000135                 0.000053\n",
       "cell2            0.000135                 0.000087\n",
       "cell3            0.000135                 0.000088\n",
       "cell4            0.000135                 0.000197\n",
       "cell5            0.000135                 0.000140\n",
       "...                   ...                      ...\n",
       "cell8165         0.000135                 0.000015\n",
       "cell8166         0.000135                 0.000018\n",
       "cell8167         0.000135                 0.000015\n",
       "cell8176         0.000135                 0.000015\n",
       "cell8198         0.000135                 0.000026\n",
       "\n",
       "[7416 rows x 2 columns]"
      ]
     },
     "execution_count": 18,
     "metadata": {},
     "output_type": "execute_result"
    }
   ],
   "source": [
    "ad_map.var"
   ]
  },
  {
   "cell_type": "code",
   "execution_count": 20,
   "id": "858eebaf",
   "metadata": {},
   "outputs": [
    {
     "data": {
      "text/plain": [
       "AnnData object with n_obs × n_vars = 7416 × 15971\n",
       "    obs: 'uniform_density', 'rna_count_based_density'\n",
       "    var: 'n_cells', 'sparsity', 'is_training'\n",
       "    uns: 'training_genes', 'overlap_genes'"
      ]
     },
     "execution_count": 20,
     "metadata": {},
     "output_type": "execute_result"
    }
   ],
   "source": [
    "#tutorial https://github.com/broadinstitute/Tangram/blob/master/tutorial_tangram_without_squidpy.ipynb\n",
    "\n",
    "ad_ge"
   ]
  },
  {
   "cell_type": "code",
   "execution_count": 11,
   "id": "d2c38482",
   "metadata": {},
   "outputs": [],
   "source": [
    "df=pd.DataFrame(data=ad_ge.X.transpose(), index=ad_ge.var_names , columns=ad_ge.obs_names)\n",
    "df.to_csv(\"sc_genes_spatial_cell.csv\")"
   ]
  },
  {
   "cell_type": "code",
   "execution_count": 10,
   "id": "e8448f1d",
   "metadata": {},
   "outputs": [],
   "source": [
    "ad_ge.write_h5ad(\"sc_genes_spatial_cell.h5ad\")\n"
   ]
  },
  {
   "cell_type": "code",
   "execution_count": 13,
   "id": "768290a2",
   "metadata": {},
   "outputs": [
    {
     "data": {
      "image/png": "[encoded data removed]",
      "text/plain": [
       "<Figure size 864x216 with 4 Axes>"
      ]
     },
     "metadata": {
      "needs_background": "light"
     },
     "output_type": "display_data"
    }
   ],
   "source": [
    "tg.plot_training_scores(ad_map, bins=10, alpha=.5)\n"
   ]
  },
  {
   "cell_type": "code",
   "execution_count": 26,
   "id": "43053eaa",
   "metadata": {},
   "outputs": [
    {
     "name": "stdout",
     "output_type": "stream",
     "text": [
      "SC clusters (58067, 1) 46 46\n"
     ]
    },
    {
     "data": {
      "text/plain": [
       "Resting CD4+ T cell                7194\n",
       "Resting B cell (low UMI count)     5662\n",
       "CD4+ T cell (low UMI count)        5315\n",
       "Doublets3                          4256\n",
       "ILC2                               4067\n",
       "Unresolved2                        3663\n",
       "Activated CD4+ T cell              3139\n",
       "Basophil                           2481\n",
       "Doublets2                          2340\n",
       "LTi cell                           2193\n",
       "T precursor-like cell              2107\n",
       "Lymphatic endothelial-like cell    1857\n",
       "Resting B cell                     1785\n",
       "pDC                                1441\n",
       "ILC3                               1255\n",
       "NKT cell                           1177\n",
       "DC (CD103+CD11b+)                   930\n",
       "ILC3 (low UMI count)                919\n",
       "CD8+ T cell                         883\n",
       "NK cell                             686\n",
       "Plasma cell                         381\n",
       "GCBcell(DZ)                         377\n",
       "LTi cell (low UMI count)            363\n",
       "Endothelial cell                    344\n",
       "γσ T cell (Xcl1+)                   297\n",
       "ILC1                                292\n",
       "GC B cell (LZ)                      289\n",
       "DC (D103+CD11b–)                    272\n",
       "Epithelial cell C1                  270\n",
       "Unresolved1                         225\n",
       "NK cell (low UMI count)             182\n",
       "Epithelial cell C2                  170\n",
       "Fibroblast                          158\n",
       "Macrophage                          151\n",
       "GC B cell (low UMI count)           145\n",
       "DC (D103– C1)                       135\n",
       "Mast cell                           126\n",
       "Doublets                            123\n",
       "DC (D103– C2)                        97\n",
       "Stromal cell (DN)                    86\n",
       "Unresolved                           67\n",
       "Neutrophil                           58\n",
       "Epithelial cell (low UMI count)      38\n",
       "γσ T cell (Gzma+)                    36\n",
       "Macrophage (low UMI count)           18\n",
       "Doublets1                            17\n",
       "Name: subclass_label, dtype: int64"
      ]
     },
     "execution_count": 26,
     "metadata": {},
     "output_type": "execute_result"
    }
   ],
   "source": [
    "import numpy as np \n",
    "ctname=pd.read_csv('scNameOfCT.dat',sep='\\t',index_col=0,header=None)\n",
    "ctname=ctname.to_numpy()\n",
    "sc_cluster_names=ctname[:,0]\n",
    "#print(sc_cluster_names)\n",
    "\n",
    "sc_cluster= pd.read_csv('Food-Allergy-PP-LP_cluster_v1.txt',sep='\\t',index_col=0,header=1)\n",
    "sc_cluster=sc_cluster.to_numpy()\n",
    "a=np.unique(sc_cluster)\n",
    "print('SC clusters',sc_cluster.shape,len(a),len(sc_cluster_names))\n",
    "ad_sc.obs['subclass_label'] = sc_cluster.astype(str)\n",
    "\n",
    "ad_sc.obs['subclass_label']=  ad_sc.obs['subclass_label'].astype('category')\n",
    "ad_sc.obs['subclass_label'] = ad_sc.obs['subclass_label'].cat.rename_categories(sc_cluster_names)\n",
    "\n",
    "ad_sc.obs.subclass_label.value_counts()\n",
    "\n",
    "\n",
    "assert ad_sc.uns['training_genes'] == ad_sp.uns['training_genes']"
   ]
  },
  {
   "cell_type": "code",
   "execution_count": 28,
   "id": "6df91b56",
   "metadata": {},
   "outputs": [
    {
     "ename": "KeyError",
     "evalue": "'tangram_ct_pred'",
     "output_type": "error",
     "traceback": [
      "\u001b[0;31m---------------------------------------------------------------------------\u001b[0m",
      "\u001b[0;31mKeyError\u001b[0m                                  Traceback (most recent call last)",
      "\u001b[0;32m<ipython-input-28-2f01f6b5d19a>\u001b[0m in \u001b[0;36m<module>\u001b[0;34m\u001b[0m\n\u001b[1;32m      1\u001b[0m \u001b[0;31m#tg.project_cell_annotations(ad_map, ad_sp,annotation='subclass_label')\u001b[0m\u001b[0;34m\u001b[0m\u001b[0;34m\u001b[0m\u001b[0;34m\u001b[0m\u001b[0m\n\u001b[1;32m      2\u001b[0m \u001b[0mannotation_list\u001b[0m \u001b[0;34m=\u001b[0m \u001b[0mlist\u001b[0m\u001b[0;34m(\u001b[0m\u001b[0mpd\u001b[0m\u001b[0;34m.\u001b[0m\u001b[0munique\u001b[0m\u001b[0;34m(\u001b[0m\u001b[0mad_sc\u001b[0m\u001b[0;34m.\u001b[0m\u001b[0mobs\u001b[0m\u001b[0;34m[\u001b[0m\u001b[0;34m'subclass_label'\u001b[0m\u001b[0;34m]\u001b[0m\u001b[0;34m)\u001b[0m\u001b[0;34m)\u001b[0m\u001b[0;34m\u001b[0m\u001b[0;34m\u001b[0m\u001b[0m\n\u001b[0;32m----> 3\u001b[0;31m \u001b[0mtg\u001b[0m\u001b[0;34m.\u001b[0m\u001b[0mplot_cell_annotation_sc\u001b[0m\u001b[0;34m(\u001b[0m\u001b[0mad_sp\u001b[0m\u001b[0;34m,\u001b[0m \u001b[0mannotation_list\u001b[0m\u001b[0;34m,\u001b[0m\u001b[0mx\u001b[0m\u001b[0;34m=\u001b[0m\u001b[0;34m'x'\u001b[0m\u001b[0;34m,\u001b[0m \u001b[0my\u001b[0m\u001b[0;34m=\u001b[0m\u001b[0;34m'y'\u001b[0m\u001b[0;34m,\u001b[0m\u001b[0mspot_size\u001b[0m\u001b[0;34m=\u001b[0m \u001b[0;36m60\u001b[0m\u001b[0;34m,\u001b[0m \u001b[0mperc\u001b[0m\u001b[0;34m=\u001b[0m\u001b[0;36m0.001\u001b[0m\u001b[0;34m)\u001b[0m\u001b[0;34m\u001b[0m\u001b[0;34m\u001b[0m\u001b[0m\n\u001b[0m",
      "\u001b[0;32m~/miniconda3/lib/python3.9/site-packages/tangram/plot_utils.py\u001b[0m in \u001b[0;36mplot_cell_annotation_sc\u001b[0;34m(adata_sp, annotation_list, x, y, spot_size, scale_factor, perc, ax)\u001b[0m\n\u001b[1;32m    188\u001b[0m \u001b[0;34m\u001b[0m\u001b[0m\n\u001b[1;32m    189\u001b[0m     \u001b[0;31m# construct df_plot\u001b[0m\u001b[0;34m\u001b[0m\u001b[0;34m\u001b[0m\u001b[0;34m\u001b[0m\u001b[0m\n\u001b[0;32m--> 190\u001b[0;31m     \u001b[0mdf\u001b[0m \u001b[0;34m=\u001b[0m \u001b[0madata_sp\u001b[0m\u001b[0;34m.\u001b[0m\u001b[0mobsm\u001b[0m\u001b[0;34m[\u001b[0m\u001b[0;34m\"tangram_ct_pred\"\u001b[0m\u001b[0;34m]\u001b[0m\u001b[0;34m[\u001b[0m\u001b[0mannotation_list\u001b[0m\u001b[0;34m]\u001b[0m\u001b[0;34m\u001b[0m\u001b[0;34m\u001b[0m\u001b[0m\n\u001b[0m\u001b[1;32m    191\u001b[0m     \u001b[0mconstruct_obs_plot\u001b[0m\u001b[0;34m(\u001b[0m\u001b[0mdf\u001b[0m\u001b[0;34m,\u001b[0m \u001b[0madata_sp\u001b[0m\u001b[0;34m,\u001b[0m \u001b[0mperc\u001b[0m\u001b[0;34m=\u001b[0m\u001b[0mperc\u001b[0m\u001b[0;34m)\u001b[0m\u001b[0;34m\u001b[0m\u001b[0;34m\u001b[0m\u001b[0m\n\u001b[1;32m    192\u001b[0m \u001b[0;34m\u001b[0m\u001b[0m\n",
      "\u001b[0;32m~/miniconda3/lib/python3.9/site-packages/anndata/_core/aligned_mapping.py\u001b[0m in \u001b[0;36m__getitem__\u001b[0;34m(self, key)\u001b[0m\n\u001b[1;32m    146\u001b[0m \u001b[0;34m\u001b[0m\u001b[0m\n\u001b[1;32m    147\u001b[0m     \u001b[0;32mdef\u001b[0m \u001b[0m__getitem__\u001b[0m\u001b[0;34m(\u001b[0m\u001b[0mself\u001b[0m\u001b[0;34m,\u001b[0m \u001b[0mkey\u001b[0m\u001b[0;34m:\u001b[0m \u001b[0mstr\u001b[0m\u001b[0;34m)\u001b[0m \u001b[0;34m->\u001b[0m \u001b[0mV\u001b[0m\u001b[0;34m:\u001b[0m\u001b[0;34m\u001b[0m\u001b[0;34m\u001b[0m\u001b[0m\n\u001b[0;32m--> 148\u001b[0;31m         \u001b[0;32mreturn\u001b[0m \u001b[0mself\u001b[0m\u001b[0;34m.\u001b[0m\u001b[0m_data\u001b[0m\u001b[0;34m[\u001b[0m\u001b[0mkey\u001b[0m\u001b[0;34m]\u001b[0m\u001b[0;34m\u001b[0m\u001b[0;34m\u001b[0m\u001b[0m\n\u001b[0m\u001b[1;32m    149\u001b[0m \u001b[0;34m\u001b[0m\u001b[0m\n\u001b[1;32m    150\u001b[0m     \u001b[0;32mdef\u001b[0m \u001b[0m__setitem__\u001b[0m\u001b[0;34m(\u001b[0m\u001b[0mself\u001b[0m\u001b[0;34m,\u001b[0m \u001b[0mkey\u001b[0m\u001b[0;34m:\u001b[0m \u001b[0mstr\u001b[0m\u001b[0;34m,\u001b[0m \u001b[0mvalue\u001b[0m\u001b[0;34m:\u001b[0m \u001b[0mV\u001b[0m\u001b[0;34m)\u001b[0m\u001b[0;34m:\u001b[0m\u001b[0;34m\u001b[0m\u001b[0;34m\u001b[0m\u001b[0m\n",
      "\u001b[0;31mKeyError\u001b[0m: 'tangram_ct_pred'"
     ]
    }
   ],
   "source": [
    "#tg.project_cell_annotations(ad_map, ad_sp,annotation='subclass_label')\n",
    "annotation_list = list(pd.unique(ad_sc.obs['subclass_label']))\n",
    "tg.plot_cell_annotation_sc(ad_sp, annotation_list,x='x', y='y',spot_size= 60, perc=0.001)"
   ]
  },
  {
   "cell_type": "code",
   "execution_count": null,
   "id": "36f14af7",
   "metadata": {},
   "outputs": [],
   "source": []
  }
 ],
 "metadata": {
  "kernelspec": {
   "display_name": "Python 3",
   "language": "python",
   "name": "python3"
  },
  "language_info": {
   "codemirror_mode": {
    "name": "ipython",
    "version": 3
   },
   "file_extension": ".py",
   "mimetype": "text/x-python",
   "name": "python",
   "nbconvert_exporter": "python",
   "pygments_lexer": "ipython3",
   "version": "3.9.5"
  }
 },
 "nbformat": 4,
 "nbformat_minor": 5
}
