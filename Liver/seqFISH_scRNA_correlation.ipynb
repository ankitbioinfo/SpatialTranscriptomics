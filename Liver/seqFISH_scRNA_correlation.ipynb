{
 "cells": [
  {
   "cell_type": "code",
   "execution_count": 11,
   "id": "b653f9bb",
   "metadata": {},
   "outputs": [],
   "source": [
    "import scanpy as sc \n",
    "import numpy as np \n",
    "import matplotlib.pyplot as plt "
   ]
  },
  {
   "cell_type": "code",
   "execution_count": 3,
   "id": "326118ac",
   "metadata": {},
   "outputs": [
    {
     "name": "stdout",
     "output_type": "stream",
     "text": [
      "(395215, 347)\n"
     ]
    }
   ],
   "source": [
    "dataFolder='input_vizgen_liver/mapping/'\n",
    "\n",
    "ad_spatial=sc.read(dataFolder+'Blank_genes_removed.csv').transpose()\n",
    "ad_spatial.var_names_make_unique()\n",
    "print(ad_spatial.shape) "
   ]
  },
  {
   "cell_type": "code",
   "execution_count": 5,
   "id": "c424ff9a",
   "metadata": {},
   "outputs": [
    {
     "name": "stdout",
     "output_type": "stream",
     "text": [
      "AnnData object with n_obs × n_vars = 185894 × 31053\n"
     ]
    }
   ],
   "source": [
    "scdatapath='input_vizgen_liver/mapping/countTable_mouseStSt/'\n",
    "ad_sc=sc.read_h5ad(scdatapath+'sc_liver_data.h5ad')\n",
    "print(ad_sc)"
   ]
  },
  {
   "cell_type": "code",
   "execution_count": null,
   "id": "4a7d7fa3",
   "metadata": {},
   "outputs": [],
   "source": []
  },
  {
   "cell_type": "code",
   "execution_count": 6,
   "id": "d4231445",
   "metadata": {},
   "outputs": [],
   "source": [
    "def find_index(sp_genename,sc_genename):\n",
    "    index_sc=[]\n",
    "    index_sp=[]\n",
    "    d={}\n",
    "    for j in range(len(sc_genename)):\n",
    "        name=sc_genename[j]\n",
    "        d[name]=j\n",
    "\n",
    "    for i in range(len(sp_genename)):\n",
    "        name=sp_genename[i]\n",
    "        try:\n",
    "            d[name]\n",
    "            flag=1\n",
    "        except KeyError:\n",
    "            flag=0\n",
    "        if flag==1:\n",
    "            index_sc.append(d[name])\n",
    "            index_sp.append(i)\n",
    "    return index_sp,index_sc"
   ]
  },
  {
   "cell_type": "code",
   "execution_count": 7,
   "id": "994a44ea",
   "metadata": {},
   "outputs": [
    {
     "name": "stdout",
     "output_type": "stream",
     "text": [
      "['Comt' 'Ldha' 'Pck1'] ['Xkr4' 'Gm1992' 'Gm37381']\n",
      "347 31053\n"
     ]
    }
   ],
   "source": [
    "genename_spatial=ad_spatial.var_names.to_numpy()\n",
    "genename_sc=ad_sc.var_names.to_numpy()\n",
    "print(genename_spatial[0:3],genename_sc[0:3])\n",
    "print(len(genename_spatial),len(genename_sc))"
   ]
  },
  {
   "cell_type": "code",
   "execution_count": 9,
   "id": "26562e7e",
   "metadata": {},
   "outputs": [
    {
     "name": "stdout",
     "output_type": "stream",
     "text": [
      "['Comt' 'Ldha' 'Pck1' 'Akr1a1' 'Ugt2b1'] ['Comt' 'Ldha' 'Pck1' 'Akr1a1' 'Ugt2b1']\n"
     ]
    }
   ],
   "source": [
    "index_sp,index_sc=find_index(genename_spatial,genename_sc)\n",
    "\n",
    "msc=ad_sc[:,index_sc].copy()\n",
    "msp=ad_spatial[:,index_sp].copy()\n",
    "gene1=msp.var_names.to_numpy()\n",
    "gene2=msc.var_names.to_numpy()\n",
    "\n",
    "print(gene1[0:5],gene2[0:5])"
   ]
  },
  {
   "cell_type": "code",
   "execution_count": 17,
   "id": "56d9e6d0",
   "metadata": {},
   "outputs": [],
   "source": [
    "genesum1=np.sum(msp.X,axis=0)\n",
    "genemean1=np.mean(msp.X,axis=0)\n",
    "\n",
    "msc1=msc.X.toarray()\n",
    "genesum2=np.sum(msc1,axis=0)\n",
    "genemean2=np.mean(msc1,axis=0)\n",
    "#print(genesum1)"
   ]
  },
  {
   "cell_type": "code",
   "execution_count": 21,
   "id": "45610716",
   "metadata": {},
   "outputs": [
    {
     "data": {
      "text/plain": [
       "[<matplotlib.lines.Line2D at 0x7fb333f95ee0>]"
      ]
     },
     "execution_count": 21,
     "metadata": {},
     "output_type": "execute_result"
    },
    {
     "data": {
      "image/png": "[encoded data removed]",
      "text/plain": [
       "<Figure size 432x288 with 1 Axes>"
      ]
     },
     "metadata": {
      "needs_background": "light"
     },
     "output_type": "display_data"
    }
   ],
   "source": [
    "x=np.log10(0.1+genesum1)\n",
    "y=np.log10(0.1+genesum2)\n",
    "\n",
    "\n",
    "\n",
    "plt.plot(x,y,'bo')\n"
   ]
  },
  {
   "cell_type": "code",
   "execution_count": 22,
   "id": "a3974b58",
   "metadata": {},
   "outputs": [
    {
     "name": "stdout",
     "output_type": "stream",
     "text": [
      "0.5898923266353253\n"
     ]
    }
   ],
   "source": [
    "from scipy.stats import pearsonr\n",
    "\n",
    "corr,_ = pearsonr(x,y)\n",
    "\n",
    "print(corr)"
   ]
  },
  {
   "cell_type": "code",
   "execution_count": 23,
   "id": "13cfe99e",
   "metadata": {},
   "outputs": [
    {
     "name": "stdout",
     "output_type": "stream",
     "text": [
      "0.5524701811399632\n"
     ]
    },
    {
     "data": {
      "text/plain": [
       "[<matplotlib.lines.Line2D at 0x7fb34363d520>]"
      ]
     },
     "execution_count": 23,
     "metadata": {},
     "output_type": "execute_result"
    },
    {
     "data": {
      "image/png": "[encoded data removed]",
      "text/plain": [
       "<Figure size 432x288 with 1 Axes>"
      ]
     },
     "metadata": {
      "needs_background": "light"
     },
     "output_type": "display_data"
    }
   ],
   "source": [
    "x=np.log10(0.1+genemean1)\n",
    "y=np.log10(0.1+genemean2)\n",
    "\n",
    "corr,_ = pearsonr(x,y)\n",
    "print(corr)\n",
    "\n",
    "plt.plot(x,y,'bo')"
   ]
  },
  {
   "cell_type": "code",
   "execution_count": null,
   "id": "5274716d",
   "metadata": {},
   "outputs": [],
   "source": []
  }
 ],
 "metadata": {
  "kernelspec": {
   "display_name": "Python 3",
   "language": "python",
   "name": "python3"
  },
  "language_info": {
   "codemirror_mode": {
    "name": "ipython",
    "version": 3
   },
   "file_extension": ".py",
   "mimetype": "text/x-python",
   "name": "python",
   "nbconvert_exporter": "python",
   "pygments_lexer": "ipython3",
   "version": "3.9.5"
  }
 },
 "nbformat": 4,
 "nbformat_minor": 5
}
