{
 "cells": [
  {
   "cell_type": "code",
   "execution_count": 1,
   "id": "06c3deac",
   "metadata": {},
   "outputs": [],
   "source": [
    "\n",
    "import numpy as np\n",
    "import pandas as pd\n",
    "import matplotlib.pyplot as plt\n",
    "from scipy.spatial import Voronoi, ConvexHull,voronoi_plot_2d, Delaunay\n",
    "import os\n",
    "import random\n",
    "from sklearn.linear_model import LogisticRegression\n",
    "from sklearn.model_selection import train_test_split\n",
    "from sklearn.metrics import confusion_matrix\n",
    "import seaborn as snn\n",
    "from matplotlib.lines import Line2D\n",
    "import scanpy as sc "
   ]
  },
  {
   "cell_type": "code",
   "execution_count": 2,
   "id": "6834e4e4",
   "metadata": {},
   "outputs": [],
   "source": [
    "csvfilename='Quadrant/Blank_genes_removed.csv'\n",
    "adata=sc.read(csvfilename).transpose()\n",
    "adata.var_names_make_unique()"
   ]
  },
  {
   "cell_type": "code",
   "execution_count": 4,
   "id": "e124d1d0",
   "metadata": {},
   "outputs": [
    {
     "name": "stdout",
     "output_type": "stream",
     "text": [
      "395215 347\n",
      "395215\n"
     ]
    }
   ],
   "source": [
    "cellname=adata.obs_names.to_numpy()\n",
    "genename=adata.var_names.to_numpy()\n",
    "\n",
    "print(len(cellname),len(genename))\n",
    "\n",
    "d={}\n",
    "for j in range(len(cellname)):\n",
    "    name=cellname[j]\n",
    "    d[name]=j\n",
    "\n",
    "print(len(d))    "
   ]
  },
  {
   "cell_type": "code",
   "execution_count": 5,
   "id": "347ecd40",
   "metadata": {},
   "outputs": [],
   "source": [
    "def reading_data(d):\n",
    "    datapath='Quadrant/'\n",
    "    f=open(datapath+'tissue_positions_list.csv')\n",
    "    cont=f.readlines()\n",
    "    location_cellname2int={}\n",
    "    location_int2cellname={}\n",
    "    #points=np.zeros((len(cont),2),dtype=float)\n",
    "    points=[]\n",
    "    index=[]\n",
    "    fw=open('tissue_positions_list_quadrant.csv','w')\n",
    "    for i in range(len(cont)):\n",
    "        l=cont[i].split(',')\n",
    "        #name=l[0].replace('-','.')\n",
    "        name=l[0]\n",
    "        #print(name)\n",
    "        if (float(l[1])>6000)&(float(l[2])<4000):\n",
    "            location_cellname2int[name]=i\n",
    "            location_int2cellname[i]=name\n",
    "            index.append(d[name])\n",
    "            points.append([float(l[1]), float(l[2])])\n",
    "            fw.write(cont[i])\n",
    "            \n",
    "    PP=np.array(points)        \n",
    "    return index\n",
    "\n",
    "index=reading_data(d)"
   ]
  },
  {
   "cell_type": "code",
   "execution_count": 8,
   "id": "71314836",
   "metadata": {},
   "outputs": [
    {
     "name": "stdout",
     "output_type": "stream",
     "text": [
      "View of AnnData object with n_obs × n_vars = 87210 × 347\n"
     ]
    }
   ],
   "source": [
    "new_adata=adata[index,:]\n",
    "print(new_adata)"
   ]
  },
  {
   "cell_type": "code",
   "execution_count": 9,
   "id": "0fbaeee1",
   "metadata": {},
   "outputs": [],
   "source": [
    "new_adata.write_h5ad(\"spatial_quadrant.h5ad\")\n"
   ]
  },
  {
   "cell_type": "code",
   "execution_count": null,
   "id": "eb7d3243",
   "metadata": {},
   "outputs": [],
   "source": []
  }
 ],
 "metadata": {
  "kernelspec": {
   "display_name": "Python 3",
   "language": "python",
   "name": "python3"
  },
  "language_info": {
   "codemirror_mode": {
    "name": "ipython",
    "version": 3
   },
   "file_extension": ".py",
   "mimetype": "text/x-python",
   "name": "python",
   "nbconvert_exporter": "python",
   "pygments_lexer": "ipython3",
   "version": "3.9.5"
  }
 },
 "nbformat": 4,
 "nbformat_minor": 5
}
