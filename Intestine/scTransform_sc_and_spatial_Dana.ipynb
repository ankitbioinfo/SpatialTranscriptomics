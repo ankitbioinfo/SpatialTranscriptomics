{
 "cells": [
  {
   "cell_type": "code",
   "execution_count": 1,
   "id": "70f2f237",
   "metadata": {},
   "outputs": [],
   "source": [
    "import scanpy as sc\n",
    "import matplotlib.pyplot as plt\n",
    "import numpy as np\n",
    "import pandas as pd\n",
    "import os\n",
    "#import pickle\n",
    "from scipy.spatial import cKDTree\n",
    "from SCTransform import SCTransform\n",
    "\n",
    "import warnings\n",
    "import time\n",
    "warnings.filterwarnings('ignore')\n",
    "#export PYTHONWARNINGS='ignore:Multiprocessing-backed parallel loops:UserWarning'\n",
    "os.environ[\"PYTHONWARNINGS\"] = \"ignore::UserWarning\"\n",
    "\n"
   ]
  },
  {
   "cell_type": "code",
   "execution_count": 2,
   "id": "da8a9004",
   "metadata": {},
   "outputs": [],
   "source": [
    "def create_directory(outputFolder):\n",
    "    answer=os.path.isdir(outputFolder)\n",
    "    if answer==True:\n",
    "        pass\n",
    "    else:\n",
    "        os.mkdir(outputFolder)\n",
    "\n",
    "\n",
    "def find_index(sp_genename,sc_genename):\n",
    "    index_sc=[]\n",
    "    index_sp=[]\n",
    "    d={}\n",
    "    for j in range(len(sc_genename)):\n",
    "        name=sc_genename[j]\n",
    "        d[name]=j\n",
    "\n",
    "    for i in range(len(sp_genename)):\n",
    "        name=sp_genename[i]\n",
    "        try:\n",
    "            d[name]\n",
    "            flag=1\n",
    "        except KeyError:\n",
    "            flag=0\n",
    "        if flag==1:\n",
    "            index_sc.append(d[name])\n",
    "            index_sp.append(i)\n",
    "    return index_sp,index_sc\n"
   ]
  },
  {
   "cell_type": "code",
   "execution_count": 3,
   "id": "058fc934",
   "metadata": {},
   "outputs": [],
   "source": [
    "scdatapath='./Intestine_sc_data/DanaGroupData/'\n",
    "spdatapath='./OriginalSpatialData/'\n",
    "\n",
    "ad_sp_ori=sc.read(spdatapath+'gene_by_cell.csv').transpose()\n",
    "\n",
    "ad_sc_li=sc.read_h5ad(scdatapath+'LI_adata_paper.h5ad') #.transpose()\n",
    "ad_sc_si=sc.read_h5ad(scdatapath+'SI_adata_paper.h5ad') #.transpose()\n",
    "\n",
    "\n",
    "#ad_sp_ori.var_names_make_unique()\n",
    "#ad_sc_ori.var_names_make_unique()\n",
    "\n",
    "#sc.pp.filter_cells(ad_sp_ori, min_counts=2)"
   ]
  },
  {
   "cell_type": "code",
   "execution_count": null,
   "id": "5dd99ff0",
   "metadata": {},
   "outputs": [],
   "source": []
  },
  {
   "cell_type": "code",
   "execution_count": 4,
   "id": "d9c44a28",
   "metadata": {},
   "outputs": [
    {
     "name": "stdout",
     "output_type": "stream",
     "text": [
      "[[0.         0.         0.         ... 0.69514954 0.         0.        ]\n",
      " [0.         0.         0.         ... 0.7007411  0.         0.        ]\n",
      " [0.08411071 0.         0.         ... 0.5820725  0.16169243 0.        ]\n",
      " ...\n",
      " [0.         0.         1.9676502  ... 1.9676502  0.         0.        ]\n",
      " [0.         0.         0.         ... 0.         0.         0.        ]\n",
      " [0.         0.         0.         ... 0.         0.         0.        ]]\n",
      "[[0.         0.         0.         ... 0.05349241 0.         0.        ]\n",
      " [0.         0.         0.         ... 0.05884708 0.         0.        ]\n",
      " [0.         0.         0.         ... 0.06043441 0.         0.        ]\n",
      " ...\n",
      " [0.         0.         0.         ... 0.         0.         0.        ]\n",
      " [0.         0.         0.         ... 2.548312   0.         0.        ]\n",
      " [0.         0.         0.         ... 0.         0.         0.        ]]\n"
     ]
    }
   ],
   "source": [
    "v1=ad_sc_li.X.todense()\n",
    "v2=ad_sc_si.X.todense()\n",
    "print(v1)\n",
    "print(v2)"
   ]
  },
  {
   "cell_type": "code",
   "execution_count": 8,
   "id": "bd5dd720",
   "metadata": {},
   "outputs": [
    {
     "data": {
      "text/plain": [
       "array([[ 0.,  0.,  0., ...,  0.,  0.,  9.],\n",
       "       [ 0., 39.,  0., ...,  0.,  0.,  5.],\n",
       "       [ 0., 49.,  0., ...,  0.,  0.,  4.],\n",
       "       ...,\n",
       "       [ 0.,  0.,  0., ...,  0.,  0.,  0.],\n",
       "       [ 0.,  0.,  0., ...,  0.,  0.,  0.],\n",
       "       [ 0.,  0.,  0., ...,  0.,  0.,  0.]], dtype=float32)"
      ]
     },
     "execution_count": 8,
     "metadata": {},
     "output_type": "execute_result"
    }
   ],
   "source": [
    "ad_sp_ori.X"
   ]
  },
  {
   "cell_type": "code",
   "execution_count": null,
   "id": "eb644e7b",
   "metadata": {},
   "outputs": [],
   "source": []
  },
  {
   "cell_type": "code",
   "execution_count": 5,
   "id": "25c0ae18",
   "metadata": {},
   "outputs": [],
   "source": [
    "ad_sc_li.X = ad_sc_li.layers['counts']\n",
    "ad_sc_si.X = ad_sc_si.layers['counts']"
   ]
  },
  {
   "cell_type": "code",
   "execution_count": 6,
   "id": "601fcf64",
   "metadata": {},
   "outputs": [
    {
     "name": "stdout",
     "output_type": "stream",
     "text": [
      "[[ 0.  0.  0. ... 14.  0.  0.]\n",
      " [ 0.  0.  0. ... 12.  0.  0.]\n",
      " [ 1.  0.  0. ...  9.  2.  0.]\n",
      " ...\n",
      " [ 0.  0.  1. ...  1.  0.  0.]\n",
      " [ 0.  0.  0. ...  0.  0.  0.]\n",
      " [ 0.  0.  0. ...  0.  0.  0.]]\n",
      "[[0. 0. 0. ... 1. 0. 0.]\n",
      " [0. 0. 0. ... 1. 0. 0.]\n",
      " [0. 0. 0. ... 1. 0. 0.]\n",
      " ...\n",
      " [0. 0. 0. ... 0. 0. 0.]\n",
      " [0. 0. 0. ... 2. 0. 0.]\n",
      " [0. 0. 0. ... 0. 0. 0.]]\n"
     ]
    }
   ],
   "source": [
    "v1=ad_sc_li.X.todense()\n",
    "v2=ad_sc_si.X.todense()\n",
    "print(v1)\n",
    "print(v2)"
   ]
  },
  {
   "cell_type": "code",
   "execution_count": 7,
   "id": "fc56611b",
   "metadata": {},
   "outputs": [
    {
     "name": "stdout",
     "output_type": "stream",
     "text": [
      "AnnData object with n_obs × n_vars = 5163 × 19706\n",
      "    obs: 'latent_cell_probability', 'latent_RT_efficiency', 'n_genes', 'n_genes_by_counts', 'total_counts', 'total_counts_mt', 'pct_counts_mt', 'predicted_doublet', 'doublet_score', 'Phenograph_cluster_k15_dbRM', 'coarse_cluster_dbRM', 'cell_state'\n",
      "    var: 'gene_ids', 'feature_types', 'genome', 'n_cells', 'mt', 'n_cells_by_counts', 'mean_counts', 'pct_dropout_by_counts', 'total_counts', 'highly_variable', 'highly_variable_rank', 'means', 'variances', 'variances_norm'\n",
      "    uns: 'Phenograph_cluster_k15_dbRM_colors', 'cell_state_colors', 'coarse_cluster_dbRM_colors', 'dendrogram_Phenograph_cluster_k15_dbRM', 'hvg', 'neighbors', 'pca', 'test_elbo', 'test_epoch', 'umap'\n",
      "    obsm: 'X_pca', 'X_umap'\n",
      "    varm: 'PCs'\n",
      "    layers: 'counts'\n",
      "    obsp: 'connectivities', 'distances'\n",
      "AnnData object with n_obs × n_vars = 2239 × 18573\n",
      "    obs: 'latent_cell_probability', 'latent_RT_efficiency', 'n_genes', 'n_genes_by_counts', 'total_counts', 'total_counts_mt', 'pct_counts_mt', 'predicted_doublet', 'doublet_score', 'Phenograph_cluster_k15_dbRM', 'coarse_cluster_dbRM', 'cell_state'\n",
      "    var: 'gene_ids', 'feature_types', 'genome', 'n_cells', 'mt', 'n_cells_by_counts', 'mean_counts', 'pct_dropout_by_counts', 'total_counts', 'highly_variable', 'highly_variable_rank', 'means', 'variances', 'variances_norm'\n",
      "    uns: 'Phenograph_cluster_k15_dbRM_colors', 'cell_state_colors', 'coarse_cluster_dbRM_colors', 'dendrogram_Phenograph_cluster_k15_dbRM', 'hvg', 'neighbors', 'pca', 'test_elbo', 'test_epoch', 'umap'\n",
      "    obsm: 'X_pca', 'X_umap'\n",
      "    varm: 'PCs'\n",
      "    layers: 'counts'\n",
      "    obsp: 'connectivities', 'distances'\n",
      "AnnData object with n_obs × n_vars = 7416 × 241\n"
     ]
    }
   ],
   "source": [
    "print(ad_sc_li)\n",
    "print(ad_sc_si)\n",
    "print(ad_sp_ori)"
   ]
  },
  {
   "cell_type": "code",
   "execution_count": null,
   "id": "bc4ef991",
   "metadata": {},
   "outputs": [],
   "source": []
  },
  {
   "cell_type": "code",
   "execution_count": 10,
   "id": "381de46a",
   "metadata": {},
   "outputs": [
    {
     "name": "stdout",
     "output_type": "stream",
     "text": [
      "['Acsl1' 'Acta2' 'Ada' 'Adgrd1' 'Adgrf5' 'Adra1a' 'Adra1b' 'Adra2a'\n",
      " 'Adra2c' 'Adrb1' 'Adrb2' 'Agr3' 'Apob' 'Avil' 'C1qb' 'C1qc' 'Cadm1'\n",
      " 'Ccl9' 'Ccnl2' 'Ccr7' 'Cd14' 'Cd27' 'Cd34' 'Cd3d' 'Cd3e' 'Cd4' 'Cd44'\n",
      " 'Cd79a' 'Cd79b' 'Cd8a' 'Cd8b1' 'Chrm1' 'Chrm2' 'Chrm3' 'Clca3b' 'Clec4a2'\n",
      " 'Clec9a' 'Cmc1' 'Cps1' 'Cspg4' 'Cxcr5' 'Cysltr1' 'Cysltr2' 'Drd1' 'Drd3'\n",
      " 'Drd4' 'Elavl3' 'Etv1' 'Fcgr4' 'Fcna' 'Ffar1' 'Ffar2' 'Ffar3' 'Ffar4'\n",
      " 'Foxp3' 'Fzd1' 'Fzd10' 'Fzd2' 'Fzd3' 'Fzd4' 'Fzd5' 'Fzd6' 'Fzd7' 'Fzd8'\n",
      " 'Fzd9' 'Galr1' 'Galr2' 'Galr3' 'Gipr' 'Glp1r' 'Glp2r' 'Gpbar1' 'Gper1'\n",
      " 'Gpr119' 'Gpr174' 'Gpr18' 'Gpr31b' 'Gpr34' 'Gpr55' 'Gpr84' 'Gzmb'\n",
      " 'H2-Eb1' 'Hhex' 'Hmgb2' 'Hrh1' 'Hrh2' 'Hrh3' 'Htr1b' 'Htr1f' 'Htr2b'\n",
      " 'Htr4' 'Htr5b' 'Htr7' 'Icos' 'Ifnar1' 'Ifng' 'Ighd' 'Il10' 'Il3ra' 'Il4'\n",
      " 'Il5' 'Il7r' 'Isl1' 'Itgae' 'Itgam' 'Jaml' 'Kiss1r' 'Kit' 'Klk1' 'Krt7'\n",
      " 'Lamp3' 'Lct' 'Lgr5' 'Lmx1a' 'Lpar1' 'Lpar2' 'Lpar3' 'Lpar4' 'Lpar5'\n",
      " 'Lpar6' 'Lrmp' 'Ltb4r1' 'Ltb4r2' 'Ly6g' 'Maged2' 'Maoa' 'Marcksl1'\n",
      " 'Mboat4' 'Mki67' 'Mpo' 'Mptx2' 'Ms4a1' 'Mzb1' 'Neat1' 'Nes' 'Net1'\n",
      " 'Neurog3' 'Nkg7' 'Nlrp6' 'Nt5e' 'P2ry10' 'P2ry10b' 'Pax6' 'Phox2b' 'Plb1'\n",
      " 'Prf1' 'Ptgdr2' 'Ptger1' 'Ptger2' 'Ptger3' 'Ptger4' 'Ptgfr' 'Ptgir'\n",
      " 'Ptprcap' 'Rcor2' 'Rgs4' 'S100b' 'S1pr1' 'S1pr2' 'S1pr3' 'S1pr4' 'Scarb1'\n",
      " 'Scn3a' 'Sdc1' 'Sell' 'Slc12a2' 'Slc18a1' 'Slc26a4' 'Slc2a2' 'Slc51a'\n",
      " 'Slc5a1' 'Smo' 'Sox10' 'Sox4' 'Sstr1' 'Sstr2' 'Sstr3' 'Sstr5' 'Stmn1'\n",
      " 'Taar8b' 'Taar8c' 'Tbx21' 'Tbxa2r' 'Thy1' 'Tigit' 'Tm4sf4' 'Tnfrsf21'\n",
      " 'Tpsb2' 'Trdc' 'Trpm5' 'Tspan13' 'Txndc5' 'Vcan' 'Vim']\n",
      "['Acsl1' 'Acta2' 'Ada' 'Adgrd1' 'Adgrf5' 'Adra1a' 'Adra1b' 'Adra2a'\n",
      " 'Adra2c' 'Adrb1' 'Adrb2' 'Agr3' 'Apob' 'Avil' 'C1qb' 'C1qc' 'Cadm1'\n",
      " 'Ccl9' 'Ccnl2' 'Ccr7' 'Cd14' 'Cd27' 'Cd34' 'Cd3d' 'Cd3e' 'Cd4' 'Cd44'\n",
      " 'Cd79a' 'Cd79b' 'Cd8a' 'Cd8b1' 'Chrm1' 'Chrm2' 'Chrm3' 'Clca3b' 'Clec4a2'\n",
      " 'Clec9a' 'Cmc1' 'Cps1' 'Cspg4' 'Cxcr5' 'Cysltr1' 'Cysltr2' 'Drd1' 'Drd3'\n",
      " 'Drd4' 'Elavl3' 'Etv1' 'Fcgr4' 'Fcna' 'Ffar1' 'Ffar2' 'Ffar3' 'Ffar4'\n",
      " 'Foxp3' 'Fzd1' 'Fzd10' 'Fzd2' 'Fzd3' 'Fzd4' 'Fzd5' 'Fzd6' 'Fzd7' 'Fzd8'\n",
      " 'Fzd9' 'Galr1' 'Galr2' 'Galr3' 'Gipr' 'Glp1r' 'Glp2r' 'Gpbar1' 'Gper1'\n",
      " 'Gpr119' 'Gpr174' 'Gpr18' 'Gpr31b' 'Gpr34' 'Gpr55' 'Gpr84' 'Gzmb'\n",
      " 'H2-Eb1' 'Hhex' 'Hmgb2' 'Hrh1' 'Hrh2' 'Hrh3' 'Htr1b' 'Htr1f' 'Htr2b'\n",
      " 'Htr4' 'Htr5b' 'Htr7' 'Icos' 'Ifnar1' 'Ifng' 'Ighd' 'Il10' 'Il3ra' 'Il4'\n",
      " 'Il5' 'Il7r' 'Isl1' 'Itgae' 'Itgam' 'Jaml' 'Kiss1r' 'Kit' 'Klk1' 'Krt7'\n",
      " 'Lamp3' 'Lct' 'Lgr5' 'Lmx1a' 'Lpar1' 'Lpar2' 'Lpar3' 'Lpar4' 'Lpar5'\n",
      " 'Lpar6' 'Lrmp' 'Ltb4r1' 'Ltb4r2' 'Ly6g' 'Maged2' 'Maoa' 'Marcksl1'\n",
      " 'Mboat4' 'Mki67' 'Mpo' 'Mptx2' 'Ms4a1' 'Mzb1' 'Neat1' 'Nes' 'Net1'\n",
      " 'Neurog3' 'Nkg7' 'Nlrp6' 'Nt5e' 'P2ry10' 'P2ry10b' 'Pax6' 'Phox2b' 'Plb1'\n",
      " 'Prf1' 'Ptgdr2' 'Ptger1' 'Ptger2' 'Ptger3' 'Ptger4' 'Ptgfr' 'Ptgir'\n",
      " 'Ptprcap' 'Rcor2' 'Rgs4' 'S100b' 'S1pr1' 'S1pr2' 'S1pr3' 'S1pr4' 'Scarb1'\n",
      " 'Scn3a' 'Sdc1' 'Sell' 'Slc12a2' 'Slc18a1' 'Slc26a4' 'Slc2a2' 'Slc51a'\n",
      " 'Slc5a1' 'Smo' 'Sox10' 'Sox4' 'Sstr1' 'Sstr2' 'Sstr3' 'Sstr5' 'Stmn1'\n",
      " 'Taar8b' 'Taar8c' 'Tbx21' 'Tbxa2r' 'Thy1' 'Tigit' 'Tm4sf4' 'Tnfrsf21'\n",
      " 'Tpsb2' 'Trdc' 'Trpm5' 'Tspan13' 'Txndc5' 'Vcan' 'Vim']\n"
     ]
    }
   ],
   "source": [
    "sp_genename=   ad_sp_ori.var_names.to_numpy()\n",
    "sc_genename_li=ad_sc_li.var_names.to_numpy()\n",
    "sc_genename_si=ad_sc_si.var_names.to_numpy()\n",
    "\n",
    "index_sp,index_sc=find_index(sp_genename,sc_genename_li)\n",
    "ad_li=ad_sc_li[:,index_sc].copy()\n",
    "ad_sp_li=ad_sp_ori[:,index_sp].copy()\n",
    "\n",
    "print(sp_genename[index_sp])\n",
    "print(sc_genename_li[index_sc])\n",
    "\n",
    "\n",
    "index_sp,index_sc=find_index(sp_genename,sc_genename_si)\n",
    "ad_si=ad_sc_si[:,index_sc].copy()\n",
    "ad_sp_si=ad_sp_ori[:,index_sp].copy()\n",
    "\n",
    "#print(sp_genename[index_sp])\n",
    "#print(sc_genename_si[index_sc])"
   ]
  },
  {
   "cell_type": "code",
   "execution_count": 11,
   "id": "8c9d96b3",
   "metadata": {},
   "outputs": [],
   "source": []
  },
  {
   "cell_type": "code",
   "execution_count": 11,
   "id": "61d041e5",
   "metadata": {},
   "outputs": [
    {
     "name": "stdout",
     "output_type": "stream",
     "text": [
      "AnnData object with n_obs × n_vars = 5163 × 194\n",
      "    obs: 'latent_cell_probability', 'latent_RT_efficiency', 'n_genes', 'n_genes_by_counts', 'total_counts', 'total_counts_mt', 'pct_counts_mt', 'predicted_doublet', 'doublet_score', 'Phenograph_cluster_k15_dbRM', 'coarse_cluster_dbRM', 'cell_state'\n",
      "    var: 'gene_ids', 'feature_types', 'genome', 'n_cells', 'mt', 'n_cells_by_counts', 'mean_counts', 'pct_dropout_by_counts', 'total_counts', 'highly_variable', 'highly_variable_rank', 'means', 'variances', 'variances_norm'\n",
      "    uns: 'Phenograph_cluster_k15_dbRM_colors', 'cell_state_colors', 'coarse_cluster_dbRM_colors', 'dendrogram_Phenograph_cluster_k15_dbRM', 'hvg', 'neighbors', 'pca', 'test_elbo', 'test_epoch', 'umap'\n",
      "    obsm: 'X_pca', 'X_umap'\n",
      "    varm: 'PCs'\n",
      "    layers: 'counts'\n",
      "    obsp: 'connectivities', 'distances'\n",
      "AnnData object with n_obs × n_vars = 7416 × 194\n",
      "AnnData object with n_obs × n_vars = 2239 × 188\n",
      "    obs: 'latent_cell_probability', 'latent_RT_efficiency', 'n_genes', 'n_genes_by_counts', 'total_counts', 'total_counts_mt', 'pct_counts_mt', 'predicted_doublet', 'doublet_score', 'Phenograph_cluster_k15_dbRM', 'coarse_cluster_dbRM', 'cell_state'\n",
      "    var: 'gene_ids', 'feature_types', 'genome', 'n_cells', 'mt', 'n_cells_by_counts', 'mean_counts', 'pct_dropout_by_counts', 'total_counts', 'highly_variable', 'highly_variable_rank', 'means', 'variances', 'variances_norm'\n",
      "    uns: 'Phenograph_cluster_k15_dbRM_colors', 'cell_state_colors', 'coarse_cluster_dbRM_colors', 'dendrogram_Phenograph_cluster_k15_dbRM', 'hvg', 'neighbors', 'pca', 'test_elbo', 'test_epoch', 'umap'\n",
      "    obsm: 'X_pca', 'X_umap'\n",
      "    varm: 'PCs'\n",
      "    layers: 'counts'\n",
      "    obsp: 'connectivities', 'distances'\n",
      "AnnData object with n_obs × n_vars = 7416 × 188\n"
     ]
    }
   ],
   "source": [
    "print(ad_li)\n",
    "print(ad_sp_li)\n",
    "print(ad_si)\n",
    "print(ad_sp_si)"
   ]
  },
  {
   "cell_type": "code",
   "execution_count": 12,
   "id": "e9ef8437",
   "metadata": {},
   "outputs": [],
   "source": [
    "sct_ad_sp_li = SCTransform(ad_sp_li,min_cells=1,gmean_eps=1,n_genes=500,n_cells=None, #use all cells\n",
    "                        bin_size=500,bw_adjust=3,inplace=False)\n",
    "sct_ad_sp_li.write_h5ad('scTransform_spatial_li.h5ad')"
   ]
  },
  {
   "cell_type": "code",
   "execution_count": 13,
   "id": "ab454d89",
   "metadata": {},
   "outputs": [],
   "source": [
    "sct_ad_sp_si = SCTransform(ad_sp_si,min_cells=1,gmean_eps=1,n_genes=500,n_cells=None, #use all cells\n",
    "                        bin_size=500,bw_adjust=3,inplace=False)\n",
    "sct_ad_sp_si.write_h5ad('scTransform_spatial_si.h5ad')"
   ]
  },
  {
   "cell_type": "code",
   "execution_count": 14,
   "id": "6cfe4992",
   "metadata": {},
   "outputs": [
    {
     "name": "stdout",
     "output_type": "stream",
     "text": [
      "2239 7416\n",
      "2239 7416\n"
     ]
    }
   ],
   "source": [
    "celname1=ad_sc.obs_names.to_numpy()\n",
    "celname2=ad_sp.obs_names.to_numpy()\n",
    "s1=np.unique(celname1)\n",
    "s2=np.unique(celname2)\n",
    "print(len(celname1),len(celname2))\n",
    "print(len(s1),len(s2))"
   ]
  },
  {
   "cell_type": "code",
   "execution_count": 11,
   "id": "41c6ea8d",
   "metadata": {},
   "outputs": [],
   "source": [
    "#sc.pp.filter_cells(ad_sc, min_counts=1)\n",
    "#print(ad_sc)"
   ]
  },
  {
   "cell_type": "code",
   "execution_count": 14,
   "id": "b1abec98",
   "metadata": {},
   "outputs": [],
   "source": [
    "sct_ad_sc_li = SCTransform(ad_li,min_cells=1,gmean_eps=1,n_genes=500,n_cells=None, #use all cells\n",
    "\t\t                bin_size=500,bw_adjust=3,inplace=False)\n",
    "sct_ad_sc_li.write_h5ad('scTransform_singleCell_li.h5ad')"
   ]
  },
  {
   "cell_type": "code",
   "execution_count": 15,
   "id": "f3828ee9",
   "metadata": {},
   "outputs": [],
   "source": [
    "sct_ad_sc_si = SCTransform(ad_si,min_cells=1,gmean_eps=1,n_genes=500,n_cells=None, #use all cells\n",
    "\t\t                bin_size=500,bw_adjust=3,inplace=False)\n",
    "sct_ad_sc_si.write_h5ad('scTransform_singleCell_si.h5ad')"
   ]
  },
  {
   "cell_type": "code",
   "execution_count": null,
   "id": "5d95180f",
   "metadata": {},
   "outputs": [],
   "source": []
  }
 ],
 "metadata": {
  "kernelspec": {
   "display_name": "Python 3 (ipykernel)",
   "language": "python",
   "name": "python3"
  },
  "language_info": {
   "codemirror_mode": {
    "name": "ipython",
    "version": 3
   },
   "file_extension": ".py",
   "mimetype": "text/x-python",
   "name": "python",
   "nbconvert_exporter": "python",
   "pygments_lexer": "ipython3",
   "version": "3.9.5"
  }
 },
 "nbformat": 4,
 "nbformat_minor": 5
}
